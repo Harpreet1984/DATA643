{
 "cells": [
  {
   "cell_type": "code",
   "execution_count": 48,
   "metadata": {
    "collapsed": false
   },
   "outputs": [],
   "source": [
    "import matplotlib as mpl\n",
    "#mpl.use('TkAgg')\n",
    "from matplotlib import pyplot as plt\n",
    "import pandas as pd\n",
    "import numpy as np\n",
    "from sklearn.cross_validation import train_test_split\n",
    "import graphlab as gl\n",
    "import io\n",
    "import requests\n",
    "%matplotlib inline"
   ]
  },
  {
   "cell_type": "code",
   "execution_count": 49,
   "metadata": {
    "collapsed": false,
    "scrolled": false
   },
   "outputs": [
    {
     "name": "stdout",
     "output_type": "stream",
     "text": [
      "<class 'pandas.core.frame.DataFrame'>\n",
      "RangeIndex: 100000 entries, 0 to 99999\n",
      "Data columns (total 4 columns):\n",
      "user_id      100000 non-null int64\n",
      "item_id      100000 non-null int64\n",
      "rating       100000 non-null int64\n",
      "timestamp    100000 non-null int64\n",
      "dtypes: int64(4)\n",
      "memory usage: 3.1 MB\n"
     ]
    }
   ],
   "source": [
    "col_names = [\"user_id\", \"item_id\", \"rating\", \"timestamp\" ]\n",
    "url = \"https://raw.githubusercontent.com/Harpreet1984/DATA643/master/Proj2/Data/ratings.data\"\n",
    "s=requests.get(url).content\n",
    "data = pd.read_table(io.StringIO(s.decode('utf-8')), names=col_names)\n",
    "data.info()"
   ]
  },
  {
   "cell_type": "code",
   "execution_count": 50,
   "metadata": {
    "collapsed": false,
    "scrolled": false
   },
   "outputs": [
    {
     "data": {
      "text/plain": [
       "(array([  6110.,      0.,  11370.,      0.,      0.,  27145.,      0.,\n",
       "         34174.,      0.,  21201.]),\n",
       " array([ 1. ,  1.4,  1.8,  2.2,  2.6,  3. ,  3.4,  3.8,  4.2,  4.6,  5. ]),\n",
       " <a list of 10 Patch objects>)"
      ]
     },
     "execution_count": 50,
     "metadata": {},
     "output_type": "execute_result"
    },
    {
     "data": {
      "image/png": "[encoded data removed]",
      "text/plain": [
       "<matplotlib.figure.Figure at 0x190a2630>"
      ]
     },
     "metadata": {},
     "output_type": "display_data"
    }
   ],
   "source": [
    "plt.hist(data[\"rating\"])"
   ]
  },
  {
   "cell_type": "markdown",
   "metadata": {},
   "source": [
    "## subsetting the data, by not including users that have less than 50 ratings, So that we can maximize sparsity."
   ]
  },
  {
   "cell_type": "code",
   "execution_count": 51,
   "metadata": {
    "collapsed": false,
    "scrolled": true
   },
   "outputs": [],
   "source": [
    "users = data[\"user_id\"]\n",
    "rating_count = {}\n",
    "for user in users :\n",
    "    if user in rating_count :\n",
    "        rating_count[user] += 1\n",
    "    else :\n",
    "        rating_count[user] = 1\n",
    "RATING_CUTOFF = 50\n",
    "remove_user = []\n",
    "for user in rating_count :\n",
    "    if rating_count[user] < RATING_CUTOFF:\n",
    "        remove_user.append(user)\n",
    "    \n",
    "data = data.loc[~ data[\"user_id\"].isin(remove_user) ]\n"
   ]
  },
  {
   "cell_type": "markdown",
   "metadata": {},
   "source": [
    "## Prepare for graphlab"
   ]
  },
  {
   "cell_type": "code",
   "execution_count": 52,
   "metadata": {
    "collapsed": false
   },
   "outputs": [
    {
     "name": "stdout",
     "output_type": "stream",
     "text": [
      "+---------+---------+--------+-----------+\n",
      "| user_id | item_id | rating | timestamp |\n",
      "+---------+---------+--------+-----------+\n",
      "|   186   |   302   |   3    | 891717742 |\n",
      "|    22   |   377   |   1    | 878887116 |\n",
      "|   244   |    51   |   2    | 880606923 |\n",
      "|   298   |   474   |   4    | 884182806 |\n",
      "|   115   |   265   |   2    | 881171488 |\n",
      "|   253   |   465   |   5    | 891628467 |\n",
      "|   305   |   451   |   3    | 886324817 |\n",
      "|    6    |    86   |   3    | 883603013 |\n",
      "|    62   |   257   |   2    | 879372434 |\n",
      "|   286   |   1014  |   5    | 879781125 |\n",
      "+---------+---------+--------+-----------+\n",
      "[88471 rows x 4 columns]\n",
      "Note: Only the head of the SFrame is printed.\n",
      "You can use print_rows(num_rows=m, num_columns=n) to print more rows and columns.\n"
     ]
    }
   ],
   "source": [
    "sframe=gl.SFrame(data)\n",
    "print (sframe)"
   ]
  },
  {
   "cell_type": "markdown",
   "metadata": {},
   "source": [
    "## Creating Train, Validate, Test split "
   ]
  },
  {
   "cell_type": "code",
   "execution_count": 53,
   "metadata": {
    "collapsed": false
   },
   "outputs": [],
   "source": [
    "sframe_train, sframe_test = sframe.random_split(.7)\n",
    "sframe_train, sframe_validate = sframe_train.random_split(.75)"
   ]
  },
  {
   "cell_type": "markdown",
   "metadata": {},
   "source": [
    "## Popularity Recommender"
   ]
  },
  {
   "cell_type": "code",
   "execution_count": 54,
   "metadata": {
    "collapsed": false
   },
   "outputs": [
    {
     "data": {
      "text/html": [
       "<pre>Recsys training: model = popularity</pre>"
      ],
      "text/plain": [
       "Recsys training: model = popularity"
      ]
     },
     "metadata": {},
     "output_type": "display_data"
    },
    {
     "data": {
      "text/html": [
       "<pre>Warning: Ignoring columns timestamp;</pre>"
      ],
      "text/plain": [
       "Warning: Ignoring columns timestamp;"
      ]
     },
     "metadata": {},
     "output_type": "display_data"
    },
    {
     "data": {
      "text/html": [
       "<pre>    To use these columns in scoring predictions, use a model that allows the use of additional features.</pre>"
      ],
      "text/plain": [
       "    To use these columns in scoring predictions, use a model that allows the use of additional features."
      ]
     },
     "metadata": {},
     "output_type": "display_data"
    },
    {
     "data": {
      "text/html": [
       "<pre>Preparing data set.</pre>"
      ],
      "text/plain": [
       "Preparing data set."
      ]
     },
     "metadata": {},
     "output_type": "display_data"
    },
    {
     "data": {
      "text/html": [
       "<pre>    Data has 46466 observations with 568 users and 1580 items.</pre>"
      ],
      "text/plain": [
       "    Data has 46466 observations with 568 users and 1580 items."
      ]
     },
     "metadata": {},
     "output_type": "display_data"
    },
    {
     "data": {
      "text/html": [
       "<pre>    Data prepared in: 0.117014s</pre>"
      ],
      "text/plain": [
       "    Data prepared in: 0.117014s"
      ]
     },
     "metadata": {},
     "output_type": "display_data"
    },
    {
     "data": {
      "text/html": [
       "<pre>46466 observations to process; with 1580 unique items.</pre>"
      ],
      "text/plain": [
       "46466 observations to process; with 1580 unique items."
      ]
     },
     "metadata": {},
     "output_type": "display_data"
    },
    {
     "data": {
      "text/plain": [
       "Class                            : PopularityRecommender\n",
       "\n",
       "Schema\n",
       "------\n",
       "User ID                          : user_id\n",
       "Item ID                          : item_id\n",
       "Target                           : rating\n",
       "Additional observation features  : 0\n",
       "User side features               : []\n",
       "Item side features               : []\n",
       "\n",
       "Statistics\n",
       "----------\n",
       "Number of observations           : 46466\n",
       "Number of users                  : 568\n",
       "Number of items                  : 1580\n",
       "\n",
       "Training summary\n",
       "----------------\n",
       "Training time                    : 0.005\n",
       "\n",
       "Model Parameters\n",
       "----------------\n",
       "Model class                      : PopularityRecommender"
      ]
     },
     "execution_count": 54,
     "metadata": {},
     "output_type": "execute_result"
    }
   ],
   "source": [
    "popularity_recommender = gl.recommender.popularity_recommender.create(sframe_train, target='rating')\n",
    "popularity_recommender.evaluate_rmse(sframe_test, 'rating')\n",
    "popularity_recommender"
   ]
  },
  {
   "cell_type": "markdown",
   "metadata": {},
   "source": [
    "## User to User Collaborative Recommender"
   ]
  },
  {
   "cell_type": "code",
   "execution_count": 55,
   "metadata": {
    "collapsed": false
   },
   "outputs": [
    {
     "data": {
      "text/html": [
       "<pre>Recsys training: model = factorization_recommender</pre>"
      ],
      "text/plain": [
       "Recsys training: model = factorization_recommender"
      ]
     },
     "metadata": {},
     "output_type": "display_data"
    },
    {
     "data": {
      "text/html": [
       "<pre>Preparing data set.</pre>"
      ],
      "text/plain": [
       "Preparing data set."
      ]
     },
     "metadata": {},
     "output_type": "display_data"
    },
    {
     "data": {
      "text/html": [
       "<pre>    Data has 46466 observations with 568 users and 1580 items.</pre>"
      ],
      "text/plain": [
       "    Data has 46466 observations with 568 users and 1580 items."
      ]
     },
     "metadata": {},
     "output_type": "display_data"
    },
    {
     "data": {
      "text/html": [
       "<pre>    Data prepared in: 0.14001s</pre>"
      ],
      "text/plain": [
       "    Data prepared in: 0.14001s"
      ]
     },
     "metadata": {},
     "output_type": "display_data"
    },
    {
     "data": {
      "text/html": [
       "<pre>Training factorization_recommender for recommendations.</pre>"
      ],
      "text/plain": [
       "Training factorization_recommender for recommendations."
      ]
     },
     "metadata": {},
     "output_type": "display_data"
    },
    {
     "data": {
      "text/html": [
       "<pre>+--------------------------------+--------------------------------------------------+----------+</pre>"
      ],
      "text/plain": [
       "+--------------------------------+--------------------------------------------------+----------+"
      ]
     },
     "metadata": {},
     "output_type": "display_data"
    },
    {
     "data": {
      "text/html": [
       "<pre>| Parameter                      | Description                                      | Value    |</pre>"
      ],
      "text/plain": [
       "| Parameter                      | Description                                      | Value    |"
      ]
     },
     "metadata": {},
     "output_type": "display_data"
    },
    {
     "data": {
      "text/html": [
       "<pre>+--------------------------------+--------------------------------------------------+----------+</pre>"
      ],
      "text/plain": [
       "+--------------------------------+--------------------------------------------------+----------+"
      ]
     },
     "metadata": {},
     "output_type": "display_data"
    },
    {
     "data": {
      "text/html": [
       "<pre>| num_factors                    | Factor Dimension                                 | 8        |</pre>"
      ],
      "text/plain": [
       "| num_factors                    | Factor Dimension                                 | 8        |"
      ]
     },
     "metadata": {},
     "output_type": "display_data"
    },
    {
     "data": {
      "text/html": [
       "<pre>| regularization                 | L2 Regularization on Factors                     | 1e-005   |</pre>"
      ],
      "text/plain": [
       "| regularization                 | L2 Regularization on Factors                     | 1e-005   |"
      ]
     },
     "metadata": {},
     "output_type": "display_data"
    },
    {
     "data": {
      "text/html": [
       "<pre>| solver                         | Solver used for training                         | adagrad  |</pre>"
      ],
      "text/plain": [
       "| solver                         | Solver used for training                         | adagrad  |"
      ]
     },
     "metadata": {},
     "output_type": "display_data"
    },
    {
     "data": {
      "text/html": [
       "<pre>| linear_regularization          | L2 Regularization on Linear Coefficients         | 1e-010   |</pre>"
      ],
      "text/plain": [
       "| linear_regularization          | L2 Regularization on Linear Coefficients         | 1e-010   |"
      ]
     },
     "metadata": {},
     "output_type": "display_data"
    },
    {
     "data": {
      "text/html": [
       "<pre>| max_iterations                 | Maximum Number of Iterations                     | 50       |</pre>"
      ],
      "text/plain": [
       "| max_iterations                 | Maximum Number of Iterations                     | 50       |"
      ]
     },
     "metadata": {},
     "output_type": "display_data"
    },
    {
     "data": {
      "text/html": [
       "<pre>+--------------------------------+--------------------------------------------------+----------+</pre>"
      ],
      "text/plain": [
       "+--------------------------------+--------------------------------------------------+----------+"
      ]
     },
     "metadata": {},
     "output_type": "display_data"
    },
    {
     "data": {
      "text/html": [
       "<pre>  Optimizing model using SGD; tuning step size.</pre>"
      ],
      "text/plain": [
       "  Optimizing model using SGD; tuning step size."
      ]
     },
     "metadata": {},
     "output_type": "display_data"
    },
    {
     "data": {
      "text/html": [
       "<pre>  Using 10000 / 46466 points for tuning the step size.</pre>"
      ],
      "text/plain": [
       "  Using 10000 / 46466 points for tuning the step size."
      ]
     },
     "metadata": {},
     "output_type": "display_data"
    },
    {
     "data": {
      "text/html": [
       "<pre>+---------+-------------------+------------------------------------------+</pre>"
      ],
      "text/plain": [
       "+---------+-------------------+------------------------------------------+"
      ]
     },
     "metadata": {},
     "output_type": "display_data"
    },
    {
     "data": {
      "text/html": [
       "<pre>| Attempt | Initial Step Size | Estimated Objective Value                |</pre>"
      ],
      "text/plain": [
       "| Attempt | Initial Step Size | Estimated Objective Value                |"
      ]
     },
     "metadata": {},
     "output_type": "display_data"
    },
    {
     "data": {
      "text/html": [
       "<pre>+---------+-------------------+------------------------------------------+</pre>"
      ],
      "text/plain": [
       "+---------+-------------------+------------------------------------------+"
      ]
     },
     "metadata": {},
     "output_type": "display_data"
    },
    {
     "data": {
      "text/html": [
       "<pre>| 0       | 16.6667           | Not Viable                               |</pre>"
      ],
      "text/plain": [
       "| 0       | 16.6667           | Not Viable                               |"
      ]
     },
     "metadata": {},
     "output_type": "display_data"
    },
    {
     "data": {
      "text/html": [
       "<pre>| 1       | 4.16667           | Not Viable                               |</pre>"
      ],
      "text/plain": [
       "| 1       | 4.16667           | Not Viable                               |"
      ]
     },
     "metadata": {},
     "output_type": "display_data"
    },
    {
     "data": {
      "text/html": [
       "<pre>| 2       | 1.04167           | Not Viable                               |</pre>"
      ],
      "text/plain": [
       "| 2       | 1.04167           | Not Viable                               |"
      ]
     },
     "metadata": {},
     "output_type": "display_data"
    },
    {
     "data": {
      "text/html": [
       "<pre>| 3       | 0.260417          | 0.789165                                 |</pre>"
      ],
      "text/plain": [
       "| 3       | 0.260417          | 0.789165                                 |"
      ]
     },
     "metadata": {},
     "output_type": "display_data"
    },
    {
     "data": {
      "text/html": [
       "<pre>| 4       | 0.130208          | 0.51463                                  |</pre>"
      ],
      "text/plain": [
       "| 4       | 0.130208          | 0.51463                                  |"
      ]
     },
     "metadata": {},
     "output_type": "display_data"
    },
    {
     "data": {
      "text/html": [
       "<pre>| 5       | 0.0651042         | 0.591081                                 |</pre>"
      ],
      "text/plain": [
       "| 5       | 0.0651042         | 0.591081                                 |"
      ]
     },
     "metadata": {},
     "output_type": "display_data"
    },
    {
     "data": {
      "text/html": [
       "<pre>| 6       | 0.0325521         | 0.765503                                 |</pre>"
      ],
      "text/plain": [
       "| 6       | 0.0325521         | 0.765503                                 |"
      ]
     },
     "metadata": {},
     "output_type": "display_data"
    },
    {
     "data": {
      "text/html": [
       "<pre>| 7       | 0.016276          | 0.93034                                  |</pre>"
      ],
      "text/plain": [
       "| 7       | 0.016276          | 0.93034                                  |"
      ]
     },
     "metadata": {},
     "output_type": "display_data"
    },
    {
     "data": {
      "text/html": [
       "<pre>+---------+-------------------+------------------------------------------+</pre>"
      ],
      "text/plain": [
       "+---------+-------------------+------------------------------------------+"
      ]
     },
     "metadata": {},
     "output_type": "display_data"
    },
    {
     "data": {
      "text/html": [
       "<pre>| Final   | 0.130208          | 0.51463                                  |</pre>"
      ],
      "text/plain": [
       "| Final   | 0.130208          | 0.51463                                  |"
      ]
     },
     "metadata": {},
     "output_type": "display_data"
    },
    {
     "data": {
      "text/html": [
       "<pre>+---------+-------------------+------------------------------------------+</pre>"
      ],
      "text/plain": [
       "+---------+-------------------+------------------------------------------+"
      ]
     },
     "metadata": {},
     "output_type": "display_data"
    },
    {
     "data": {
      "text/html": [
       "<pre>Starting Optimization.</pre>"
      ],
      "text/plain": [
       "Starting Optimization."
      ]
     },
     "metadata": {},
     "output_type": "display_data"
    },
    {
     "data": {
      "text/html": [
       "<pre>+---------+--------------+-------------------+-----------------------+-------------+</pre>"
      ],
      "text/plain": [
       "+---------+--------------+-------------------+-----------------------+-------------+"
      ]
     },
     "metadata": {},
     "output_type": "display_data"
    },
    {
     "data": {
      "text/html": [
       "<pre>| Iter.   | Elapsed Time | Approx. Objective | Approx. Training RMSE | Step Size   |</pre>"
      ],
      "text/plain": [
       "| Iter.   | Elapsed Time | Approx. Objective | Approx. Training RMSE | Step Size   |"
      ]
     },
     "metadata": {},
     "output_type": "display_data"
    },
    {
     "data": {
      "text/html": [
       "<pre>+---------+--------------+-------------------+-----------------------+-------------+</pre>"
      ],
      "text/plain": [
       "+---------+--------------+-------------------+-----------------------+-------------+"
      ]
     },
     "metadata": {},
     "output_type": "display_data"
    },
    {
     "data": {
      "text/html": [
       "<pre>| Initial | 1.004ms      | 1.26279           | 1.12374               |             |</pre>"
      ],
      "text/plain": [
       "| Initial | 1.004ms      | 1.26279           | 1.12374               |             |"
      ]
     },
     "metadata": {},
     "output_type": "display_data"
    },
    {
     "data": {
      "text/html": [
       "<pre>+---------+--------------+-------------------+-----------------------+-------------+</pre>"
      ],
      "text/plain": [
       "+---------+--------------+-------------------+-----------------------+-------------+"
      ]
     },
     "metadata": {},
     "output_type": "display_data"
    },
    {
     "data": {
      "text/html": [
       "<pre>| 1       | 166.999ms    | 1.09038           | 1.04341               | 0.130208    |</pre>"
      ],
      "text/plain": [
       "| 1       | 166.999ms    | 1.09038           | 1.04341               | 0.130208    |"
      ]
     },
     "metadata": {},
     "output_type": "display_data"
    },
    {
     "data": {
      "text/html": [
       "<pre>| 2       | 323.995ms    | 0.882065          | 0.938128              | 0.130208    |</pre>"
      ],
      "text/plain": [
       "| 2       | 323.995ms    | 0.882065          | 0.938128              | 0.130208    |"
      ]
     },
     "metadata": {},
     "output_type": "display_data"
    },
    {
     "data": {
      "text/html": [
       "<pre>| 3       | 444.995ms    | 0.853129          | 0.922399              | 0.130208    |</pre>"
      ],
      "text/plain": [
       "| 3       | 444.995ms    | 0.853129          | 0.922399              | 0.130208    |"
      ]
     },
     "metadata": {},
     "output_type": "display_data"
    },
    {
     "data": {
      "text/html": [
       "<pre>| 4       | 572.994ms    | 0.826818          | 0.907786              | 0.130208    |</pre>"
      ],
      "text/plain": [
       "| 4       | 572.994ms    | 0.826818          | 0.907786              | 0.130208    |"
      ]
     },
     "metadata": {},
     "output_type": "display_data"
    },
    {
     "data": {
      "text/html": [
       "<pre>| 5       | 677.995ms    | 0.812382          | 0.899596              | 0.130208    |</pre>"
      ],
      "text/plain": [
       "| 5       | 677.995ms    | 0.812382          | 0.899596              | 0.130208    |"
      ]
     },
     "metadata": {},
     "output_type": "display_data"
    },
    {
     "data": {
      "text/html": [
       "<pre>| 6       | 808.991ms    | 0.799357          | 0.892151              | 0.130208    |</pre>"
      ],
      "text/plain": [
       "| 6       | 808.991ms    | 0.799357          | 0.892151              | 0.130208    |"
      ]
     },
     "metadata": {},
     "output_type": "display_data"
    },
    {
     "data": {
      "text/html": [
       "<pre>| 10      | 1.17s        | 0.756674          | 0.867196              | 0.130208    |</pre>"
      ],
      "text/plain": [
       "| 10      | 1.17s        | 0.756674          | 0.867196              | 0.130208    |"
      ]
     },
     "metadata": {},
     "output_type": "display_data"
    },
    {
     "data": {
      "text/html": [
       "<pre>| 11      | 1.29s        | 0.749691          | 0.862984              | 0.130208    |</pre>"
      ],
      "text/plain": [
       "| 11      | 1.29s        | 0.749691          | 0.862984              | 0.130208    |"
      ]
     },
     "metadata": {},
     "output_type": "display_data"
    },
    {
     "data": {
      "text/html": [
       "<pre>| 20      | 2.70s        | 0.691716          | 0.827196              | 0.130208    |</pre>"
      ],
      "text/plain": [
       "| 20      | 2.70s        | 0.691716          | 0.827196              | 0.130208    |"
      ]
     },
     "metadata": {},
     "output_type": "display_data"
    },
    {
     "data": {
      "text/html": [
       "<pre>| 30      | 4.32s        | 0.640704          | 0.794112              | 0.130208    |</pre>"
      ],
      "text/plain": [
       "| 30      | 4.32s        | 0.640704          | 0.794112              | 0.130208    |"
      ]
     },
     "metadata": {},
     "output_type": "display_data"
    },
    {
     "data": {
      "text/html": [
       "<pre>| 40      | 5.19s        | 0.602608          | 0.768237              | 0.130208    |</pre>"
      ],
      "text/plain": [
       "| 40      | 5.19s        | 0.602608          | 0.768237              | 0.130208    |"
      ]
     },
     "metadata": {},
     "output_type": "display_data"
    },
    {
     "data": {
      "text/html": [
       "<pre>| 50      | 6.02s        | 0.570849          | 0.745848              | 0.130208    |</pre>"
      ],
      "text/plain": [
       "| 50      | 6.02s        | 0.570849          | 0.745848              | 0.130208    |"
      ]
     },
     "metadata": {},
     "output_type": "display_data"
    },
    {
     "data": {
      "text/html": [
       "<pre>+---------+--------------+-------------------+-----------------------+-------------+</pre>"
      ],
      "text/plain": [
       "+---------+--------------+-------------------+-----------------------+-------------+"
      ]
     },
     "metadata": {},
     "output_type": "display_data"
    },
    {
     "data": {
      "text/html": [
       "<pre>Optimization Complete: Maximum number of passes through the data reached.</pre>"
      ],
      "text/plain": [
       "Optimization Complete: Maximum number of passes through the data reached."
      ]
     },
     "metadata": {},
     "output_type": "display_data"
    },
    {
     "data": {
      "text/html": [
       "<pre>Computing final objective value and training RMSE.</pre>"
      ],
      "text/plain": [
       "Computing final objective value and training RMSE."
      ]
     },
     "metadata": {},
     "output_type": "display_data"
    },
    {
     "data": {
      "text/html": [
       "<pre>       Final objective value: 0.550042</pre>"
      ],
      "text/plain": [
       "       Final objective value: 0.550042"
      ]
     },
     "metadata": {},
     "output_type": "display_data"
    },
    {
     "data": {
      "text/html": [
       "<pre>       Final training RMSE: 0.731767</pre>"
      ],
      "text/plain": [
       "       Final training RMSE: 0.731767"
      ]
     },
     "metadata": {},
     "output_type": "display_data"
    },
    {
     "data": {
      "text/html": [
       "<pre>Recsys training: model = factorization_recommender</pre>"
      ],
      "text/plain": [
       "Recsys training: model = factorization_recommender"
      ]
     },
     "metadata": {},
     "output_type": "display_data"
    },
    {
     "data": {
      "text/html": [
       "<pre>Preparing data set.</pre>"
      ],
      "text/plain": [
       "Preparing data set."
      ]
     },
     "metadata": {},
     "output_type": "display_data"
    },
    {
     "data": {
      "text/html": [
       "<pre>    Data has 46466 observations with 568 users and 1580 items.</pre>"
      ],
      "text/plain": [
       "    Data has 46466 observations with 568 users and 1580 items."
      ]
     },
     "metadata": {},
     "output_type": "display_data"
    },
    {
     "data": {
      "text/html": [
       "<pre>    Data prepared in: 0.132997s</pre>"
      ],
      "text/plain": [
       "    Data prepared in: 0.132997s"
      ]
     },
     "metadata": {},
     "output_type": "display_data"
    },
    {
     "data": {
      "text/html": [
       "<pre>Training factorization_recommender for recommendations.</pre>"
      ],
      "text/plain": [
       "Training factorization_recommender for recommendations."
      ]
     },
     "metadata": {},
     "output_type": "display_data"
    },
    {
     "data": {
      "text/html": [
       "<pre>+--------------------------------+--------------------------------------------------+----------+</pre>"
      ],
      "text/plain": [
       "+--------------------------------+--------------------------------------------------+----------+"
      ]
     },
     "metadata": {},
     "output_type": "display_data"
    },
    {
     "data": {
      "text/html": [
       "<pre>| Parameter                      | Description                                      | Value    |</pre>"
      ],
      "text/plain": [
       "| Parameter                      | Description                                      | Value    |"
      ]
     },
     "metadata": {},
     "output_type": "display_data"
    },
    {
     "data": {
      "text/html": [
       "<pre>+--------------------------------+--------------------------------------------------+----------+</pre>"
      ],
      "text/plain": [
       "+--------------------------------+--------------------------------------------------+----------+"
      ]
     },
     "metadata": {},
     "output_type": "display_data"
    },
    {
     "data": {
      "text/html": [
       "<pre>| num_factors                    | Factor Dimension                                 | 8        |</pre>"
      ],
      "text/plain": [
       "| num_factors                    | Factor Dimension                                 | 8        |"
      ]
     },
     "metadata": {},
     "output_type": "display_data"
    },
    {
     "data": {
      "text/html": [
       "<pre>| regularization                 | L2 Regularization on Factors                     | 0.0001   |</pre>"
      ],
      "text/plain": [
       "| regularization                 | L2 Regularization on Factors                     | 0.0001   |"
      ]
     },
     "metadata": {},
     "output_type": "display_data"
    },
    {
     "data": {
      "text/html": [
       "<pre>| solver                         | Solver used for training                         | adagrad  |</pre>"
      ],
      "text/plain": [
       "| solver                         | Solver used for training                         | adagrad  |"
      ]
     },
     "metadata": {},
     "output_type": "display_data"
    },
    {
     "data": {
      "text/html": [
       "<pre>| linear_regularization          | L2 Regularization on Linear Coefficients         | 1e-010   |</pre>"
      ],
      "text/plain": [
       "| linear_regularization          | L2 Regularization on Linear Coefficients         | 1e-010   |"
      ]
     },
     "metadata": {},
     "output_type": "display_data"
    },
    {
     "data": {
      "text/html": [
       "<pre>| max_iterations                 | Maximum Number of Iterations                     | 50       |</pre>"
      ],
      "text/plain": [
       "| max_iterations                 | Maximum Number of Iterations                     | 50       |"
      ]
     },
     "metadata": {},
     "output_type": "display_data"
    },
    {
     "data": {
      "text/html": [
       "<pre>+--------------------------------+--------------------------------------------------+----------+</pre>"
      ],
      "text/plain": [
       "+--------------------------------+--------------------------------------------------+----------+"
      ]
     },
     "metadata": {},
     "output_type": "display_data"
    },
    {
     "data": {
      "text/html": [
       "<pre>  Optimizing model using SGD; tuning step size.</pre>"
      ],
      "text/plain": [
       "  Optimizing model using SGD; tuning step size."
      ]
     },
     "metadata": {},
     "output_type": "display_data"
    },
    {
     "data": {
      "text/html": [
       "<pre>  Using 10000 / 46466 points for tuning the step size.</pre>"
      ],
      "text/plain": [
       "  Using 10000 / 46466 points for tuning the step size."
      ]
     },
     "metadata": {},
     "output_type": "display_data"
    },
    {
     "data": {
      "text/html": [
       "<pre>+---------+-------------------+------------------------------------------+</pre>"
      ],
      "text/plain": [
       "+---------+-------------------+------------------------------------------+"
      ]
     },
     "metadata": {},
     "output_type": "display_data"
    },
    {
     "data": {
      "text/html": [
       "<pre>| Attempt | Initial Step Size | Estimated Objective Value                |</pre>"
      ],
      "text/plain": [
       "| Attempt | Initial Step Size | Estimated Objective Value                |"
      ]
     },
     "metadata": {},
     "output_type": "display_data"
    },
    {
     "data": {
      "text/html": [
       "<pre>+---------+-------------------+------------------------------------------+</pre>"
      ],
      "text/plain": [
       "+---------+-------------------+------------------------------------------+"
      ]
     },
     "metadata": {},
     "output_type": "display_data"
    },
    {
     "data": {
      "text/html": [
       "<pre>| 0       | 15.8448           | Not Viable                               |</pre>"
      ],
      "text/plain": [
       "| 0       | 15.8448           | Not Viable                               |"
      ]
     },
     "metadata": {},
     "output_type": "display_data"
    },
    {
     "data": {
      "text/html": [
       "<pre>| 1       | 3.96119           | Not Viable                               |</pre>"
      ],
      "text/plain": [
       "| 1       | 3.96119           | Not Viable                               |"
      ]
     },
     "metadata": {},
     "output_type": "display_data"
    },
    {
     "data": {
      "text/html": [
       "<pre>| 2       | 0.990298          | Not Viable                               |</pre>"
      ],
      "text/plain": [
       "| 2       | 0.990298          | Not Viable                               |"
      ]
     },
     "metadata": {},
     "output_type": "display_data"
    },
    {
     "data": {
      "text/html": [
       "<pre>| 3       | 0.247575          | 0.42252                                  |</pre>"
      ],
      "text/plain": [
       "| 3       | 0.247575          | 0.42252                                  |"
      ]
     },
     "metadata": {},
     "output_type": "display_data"
    },
    {
     "data": {
      "text/html": [
       "<pre>| 4       | 0.123787          | 0.540573                                 |</pre>"
      ],
      "text/plain": [
       "| 4       | 0.123787          | 0.540573                                 |"
      ]
     },
     "metadata": {},
     "output_type": "display_data"
    },
    {
     "data": {
      "text/html": [
       "<pre>| 5       | 0.0618937         | 0.685376                                 |</pre>"
      ],
      "text/plain": [
       "| 5       | 0.0618937         | 0.685376                                 |"
      ]
     },
     "metadata": {},
     "output_type": "display_data"
    },
    {
     "data": {
      "text/html": [
       "<pre>| 6       | 0.0309468         | 0.812079                                 |</pre>"
      ],
      "text/plain": [
       "| 6       | 0.0309468         | 0.812079                                 |"
      ]
     },
     "metadata": {},
     "output_type": "display_data"
    },
    {
     "data": {
      "text/html": [
       "<pre>+---------+-------------------+------------------------------------------+</pre>"
      ],
      "text/plain": [
       "+---------+-------------------+------------------------------------------+"
      ]
     },
     "metadata": {},
     "output_type": "display_data"
    },
    {
     "data": {
      "text/html": [
       "<pre>| Final   | 0.247575          | 0.42252                                  |</pre>"
      ],
      "text/plain": [
       "| Final   | 0.247575          | 0.42252                                  |"
      ]
     },
     "metadata": {},
     "output_type": "display_data"
    },
    {
     "data": {
      "text/html": [
       "<pre>+---------+-------------------+------------------------------------------+</pre>"
      ],
      "text/plain": [
       "+---------+-------------------+------------------------------------------+"
      ]
     },
     "metadata": {},
     "output_type": "display_data"
    },
    {
     "data": {
      "text/html": [
       "<pre>Starting Optimization.</pre>"
      ],
      "text/plain": [
       "Starting Optimization."
      ]
     },
     "metadata": {},
     "output_type": "display_data"
    },
    {
     "data": {
      "text/html": [
       "<pre>+---------+--------------+-------------------+-----------------------+-------------+</pre>"
      ],
      "text/plain": [
       "+---------+--------------+-------------------+-----------------------+-------------+"
      ]
     },
     "metadata": {},
     "output_type": "display_data"
    },
    {
     "data": {
      "text/html": [
       "<pre>| Iter.   | Elapsed Time | Approx. Objective | Approx. Training RMSE | Step Size   |</pre>"
      ],
      "text/plain": [
       "| Iter.   | Elapsed Time | Approx. Objective | Approx. Training RMSE | Step Size   |"
      ]
     },
     "metadata": {},
     "output_type": "display_data"
    },
    {
     "data": {
      "text/html": [
       "<pre>+---------+--------------+-------------------+-----------------------+-------------+</pre>"
      ],
      "text/plain": [
       "+---------+--------------+-------------------+-----------------------+-------------+"
      ]
     },
     "metadata": {},
     "output_type": "display_data"
    },
    {
     "data": {
      "text/html": [
       "<pre>| Initial | 0us          | 1.26278           | 1.12373               |             |</pre>"
      ],
      "text/plain": [
       "| Initial | 0us          | 1.26278           | 1.12373               |             |"
      ]
     },
     "metadata": {},
     "output_type": "display_data"
    },
    {
     "data": {
      "text/html": [
       "<pre>+---------+--------------+-------------------+-----------------------+-------------+</pre>"
      ],
      "text/plain": [
       "+---------+--------------+-------------------+-----------------------+-------------+"
      ]
     },
     "metadata": {},
     "output_type": "display_data"
    },
    {
     "data": {
      "text/html": [
       "<pre>| 1       | 112.999ms    | 1.84517           | 1.35169               | 0.247575    |</pre>"
      ],
      "text/plain": [
       "| 1       | 112.999ms    | 1.84517           | 1.35169               | 0.247575    |"
      ]
     },
     "metadata": {},
     "output_type": "display_data"
    },
    {
     "data": {
      "text/html": [
       "<pre>| 2       | 194ms        | 0.905189          | 0.939313              | 0.247575    |</pre>"
      ],
      "text/plain": [
       "| 2       | 194ms        | 0.905189          | 0.939313              | 0.247575    |"
      ]
     },
     "metadata": {},
     "output_type": "display_data"
    },
    {
     "data": {
      "text/html": [
       "<pre>| 3       | 272.994ms    | 0.873159          | 0.920094              | 0.247575    |</pre>"
      ],
      "text/plain": [
       "| 3       | 272.994ms    | 0.873159          | 0.920094              | 0.247575    |"
      ]
     },
     "metadata": {},
     "output_type": "display_data"
    },
    {
     "data": {
      "text/html": [
       "<pre>| 4       | 384.993ms    | 0.844421          | 0.901739              | 0.247575    |</pre>"
      ],
      "text/plain": [
       "| 4       | 384.993ms    | 0.844421          | 0.901739              | 0.247575    |"
      ]
     },
     "metadata": {},
     "output_type": "display_data"
    },
    {
     "data": {
      "text/html": [
       "<pre>| 5       | 472.995ms    | 0.827286          | 0.889763              | 0.247575    |</pre>"
      ],
      "text/plain": [
       "| 5       | 472.995ms    | 0.827286          | 0.889763              | 0.247575    |"
      ]
     },
     "metadata": {},
     "output_type": "display_data"
    },
    {
     "data": {
      "text/html": [
       "<pre>| 6       | 575.992ms    | 0.817613          | 0.882153              | 0.247575    |</pre>"
      ],
      "text/plain": [
       "| 6       | 575.992ms    | 0.817613          | 0.882153              | 0.247575    |"
      ]
     },
     "metadata": {},
     "output_type": "display_data"
    },
    {
     "data": {
      "text/html": [
       "<pre>| 11      | 997.987ms    | 0.774962          | 0.847575              | 0.247575    |</pre>"
      ],
      "text/plain": [
       "| 11      | 997.987ms    | 0.774962          | 0.847575              | 0.247575    |"
      ]
     },
     "metadata": {},
     "output_type": "display_data"
    },
    {
     "data": {
      "text/html": [
       "<pre>| 25      | 2.26s        | 0.71781           | 0.788857              | 0.247575    |</pre>"
      ],
      "text/plain": [
       "| 25      | 2.26s        | 0.71781           | 0.788857              | 0.247575    |"
      ]
     },
     "metadata": {},
     "output_type": "display_data"
    },
    {
     "data": {
      "text/html": [
       "<pre>| 50      | 4.27s        | 0.680225          | 0.733333              | 0.247575    |</pre>"
      ],
      "text/plain": [
       "| 50      | 4.27s        | 0.680225          | 0.733333              | 0.247575    |"
      ]
     },
     "metadata": {},
     "output_type": "display_data"
    },
    {
     "data": {
      "text/html": [
       "<pre>+---------+--------------+-------------------+-----------------------+-------------+</pre>"
      ],
      "text/plain": [
       "+---------+--------------+-------------------+-----------------------+-------------+"
      ]
     },
     "metadata": {},
     "output_type": "display_data"
    },
    {
     "data": {
      "text/html": [
       "<pre>Optimization Complete: Maximum number of passes through the data reached.</pre>"
      ],
      "text/plain": [
       "Optimization Complete: Maximum number of passes through the data reached."
      ]
     },
     "metadata": {},
     "output_type": "display_data"
    },
    {
     "data": {
      "text/html": [
       "<pre>Computing final objective value and training RMSE.</pre>"
      ],
      "text/plain": [
       "Computing final objective value and training RMSE."
      ]
     },
     "metadata": {},
     "output_type": "display_data"
    },
    {
     "data": {
      "text/html": [
       "<pre>       Final objective value: 0.664187</pre>"
      ],
      "text/plain": [
       "       Final objective value: 0.664187"
      ]
     },
     "metadata": {},
     "output_type": "display_data"
    },
    {
     "data": {
      "text/html": [
       "<pre>       Final training RMSE: 0.722315</pre>"
      ],
      "text/plain": [
       "       Final training RMSE: 0.722315"
      ]
     },
     "metadata": {},
     "output_type": "display_data"
    },
    {
     "data": {
      "text/html": [
       "<pre>Recsys training: model = factorization_recommender</pre>"
      ],
      "text/plain": [
       "Recsys training: model = factorization_recommender"
      ]
     },
     "metadata": {},
     "output_type": "display_data"
    },
    {
     "data": {
      "text/html": [
       "<pre>Preparing data set.</pre>"
      ],
      "text/plain": [
       "Preparing data set."
      ]
     },
     "metadata": {},
     "output_type": "display_data"
    },
    {
     "data": {
      "text/html": [
       "<pre>    Data has 46466 observations with 568 users and 1580 items.</pre>"
      ],
      "text/plain": [
       "    Data has 46466 observations with 568 users and 1580 items."
      ]
     },
     "metadata": {},
     "output_type": "display_data"
    },
    {
     "data": {
      "text/html": [
       "<pre>    Data prepared in: 0.126s</pre>"
      ],
      "text/plain": [
       "    Data prepared in: 0.126s"
      ]
     },
     "metadata": {},
     "output_type": "display_data"
    },
    {
     "data": {
      "text/html": [
       "<pre>Training factorization_recommender for recommendations.</pre>"
      ],
      "text/plain": [
       "Training factorization_recommender for recommendations."
      ]
     },
     "metadata": {},
     "output_type": "display_data"
    },
    {
     "data": {
      "text/html": [
       "<pre>+--------------------------------+--------------------------------------------------+----------+</pre>"
      ],
      "text/plain": [
       "+--------------------------------+--------------------------------------------------+----------+"
      ]
     },
     "metadata": {},
     "output_type": "display_data"
    },
    {
     "data": {
      "text/html": [
       "<pre>| Parameter                      | Description                                      | Value    |</pre>"
      ],
      "text/plain": [
       "| Parameter                      | Description                                      | Value    |"
      ]
     },
     "metadata": {},
     "output_type": "display_data"
    },
    {
     "data": {
      "text/html": [
       "<pre>+--------------------------------+--------------------------------------------------+----------+</pre>"
      ],
      "text/plain": [
       "+--------------------------------+--------------------------------------------------+----------+"
      ]
     },
     "metadata": {},
     "output_type": "display_data"
    },
    {
     "data": {
      "text/html": [
       "<pre>| num_factors                    | Factor Dimension                                 | 8        |</pre>"
      ],
      "text/plain": [
       "| num_factors                    | Factor Dimension                                 | 8        |"
      ]
     },
     "metadata": {},
     "output_type": "display_data"
    },
    {
     "data": {
      "text/html": [
       "<pre>| regularization                 | L2 Regularization on Factors                     | 0.001    |</pre>"
      ],
      "text/plain": [
       "| regularization                 | L2 Regularization on Factors                     | 0.001    |"
      ]
     },
     "metadata": {},
     "output_type": "display_data"
    },
    {
     "data": {
      "text/html": [
       "<pre>| solver                         | Solver used for training                         | adagrad  |</pre>"
      ],
      "text/plain": [
       "| solver                         | Solver used for training                         | adagrad  |"
      ]
     },
     "metadata": {},
     "output_type": "display_data"
    },
    {
     "data": {
      "text/html": [
       "<pre>| linear_regularization          | L2 Regularization on Linear Coefficients         | 1e-010   |</pre>"
      ],
      "text/plain": [
       "| linear_regularization          | L2 Regularization on Linear Coefficients         | 1e-010   |"
      ]
     },
     "metadata": {},
     "output_type": "display_data"
    },
    {
     "data": {
      "text/html": [
       "<pre>| max_iterations                 | Maximum Number of Iterations                     | 50       |</pre>"
      ],
      "text/plain": [
       "| max_iterations                 | Maximum Number of Iterations                     | 50       |"
      ]
     },
     "metadata": {},
     "output_type": "display_data"
    },
    {
     "data": {
      "text/html": [
       "<pre>+--------------------------------+--------------------------------------------------+----------+</pre>"
      ],
      "text/plain": [
       "+--------------------------------+--------------------------------------------------+----------+"
      ]
     },
     "metadata": {},
     "output_type": "display_data"
    },
    {
     "data": {
      "text/html": [
       "<pre>  Optimizing model using SGD; tuning step size.</pre>"
      ],
      "text/plain": [
       "  Optimizing model using SGD; tuning step size."
      ]
     },
     "metadata": {},
     "output_type": "display_data"
    },
    {
     "data": {
      "text/html": [
       "<pre>  Using 10000 / 46466 points for tuning the step size.</pre>"
      ],
      "text/plain": [
       "  Using 10000 / 46466 points for tuning the step size."
      ]
     },
     "metadata": {},
     "output_type": "display_data"
    },
    {
     "data": {
      "text/html": [
       "<pre>+---------+-------------------+------------------------------------------+</pre>"
      ],
      "text/plain": [
       "+---------+-------------------+------------------------------------------+"
      ]
     },
     "metadata": {},
     "output_type": "display_data"
    },
    {
     "data": {
      "text/html": [
       "<pre>| Attempt | Initial Step Size | Estimated Objective Value                |</pre>"
      ],
      "text/plain": [
       "| Attempt | Initial Step Size | Estimated Objective Value                |"
      ]
     },
     "metadata": {},
     "output_type": "display_data"
    },
    {
     "data": {
      "text/html": [
       "<pre>+---------+-------------------+------------------------------------------+</pre>"
      ],
      "text/plain": [
       "+---------+-------------------+------------------------------------------+"
      ]
     },
     "metadata": {},
     "output_type": "display_data"
    },
    {
     "data": {
      "text/html": [
       "<pre>| 0       | 1.58448           | Not Viable                               |</pre>"
      ],
      "text/plain": [
       "| 0       | 1.58448           | Not Viable                               |"
      ]
     },
     "metadata": {},
     "output_type": "display_data"
    },
    {
     "data": {
      "text/html": [
       "<pre>| 1       | 0.396119          | 0.806129                                 |</pre>"
      ],
      "text/plain": [
       "| 1       | 0.396119          | 0.806129                                 |"
      ]
     },
     "metadata": {},
     "output_type": "display_data"
    },
    {
     "data": {
      "text/html": [
       "<pre>| 2       | 0.19806           | 0.772311                                 |</pre>"
      ],
      "text/plain": [
       "| 2       | 0.19806           | 0.772311                                 |"
      ]
     },
     "metadata": {},
     "output_type": "display_data"
    },
    {
     "data": {
      "text/html": [
       "<pre>| 3       | 0.0990298         | 0.816803                                 |</pre>"
      ],
      "text/plain": [
       "| 3       | 0.0990298         | 0.816803                                 |"
      ]
     },
     "metadata": {},
     "output_type": "display_data"
    },
    {
     "data": {
      "text/html": [
       "<pre>| 4       | 0.0495149         | 0.890405                                 |</pre>"
      ],
      "text/plain": [
       "| 4       | 0.0495149         | 0.890405                                 |"
      ]
     },
     "metadata": {},
     "output_type": "display_data"
    },
    {
     "data": {
      "text/html": [
       "<pre>| 5       | 0.0247575         | 0.959497                                 |</pre>"
      ],
      "text/plain": [
       "| 5       | 0.0247575         | 0.959497                                 |"
      ]
     },
     "metadata": {},
     "output_type": "display_data"
    },
    {
     "data": {
      "text/html": [
       "<pre>+---------+-------------------+------------------------------------------+</pre>"
      ],
      "text/plain": [
       "+---------+-------------------+------------------------------------------+"
      ]
     },
     "metadata": {},
     "output_type": "display_data"
    },
    {
     "data": {
      "text/html": [
       "<pre>| Final   | 0.19806           | 0.772311                                 |</pre>"
      ],
      "text/plain": [
       "| Final   | 0.19806           | 0.772311                                 |"
      ]
     },
     "metadata": {},
     "output_type": "display_data"
    },
    {
     "data": {
      "text/html": [
       "<pre>+---------+-------------------+------------------------------------------+</pre>"
      ],
      "text/plain": [
       "+---------+-------------------+------------------------------------------+"
      ]
     },
     "metadata": {},
     "output_type": "display_data"
    },
    {
     "data": {
      "text/html": [
       "<pre>Starting Optimization.</pre>"
      ],
      "text/plain": [
       "Starting Optimization."
      ]
     },
     "metadata": {},
     "output_type": "display_data"
    },
    {
     "data": {
      "text/html": [
       "<pre>+---------+--------------+-------------------+-----------------------+-------------+</pre>"
      ],
      "text/plain": [
       "+---------+--------------+-------------------+-----------------------+-------------+"
      ]
     },
     "metadata": {},
     "output_type": "display_data"
    },
    {
     "data": {
      "text/html": [
       "<pre>| Iter.   | Elapsed Time | Approx. Objective | Approx. Training RMSE | Step Size   |</pre>"
      ],
      "text/plain": [
       "| Iter.   | Elapsed Time | Approx. Objective | Approx. Training RMSE | Step Size   |"
      ]
     },
     "metadata": {},
     "output_type": "display_data"
    },
    {
     "data": {
      "text/html": [
       "<pre>+---------+--------------+-------------------+-----------------------+-------------+</pre>"
      ],
      "text/plain": [
       "+---------+--------------+-------------------+-----------------------+-------------+"
      ]
     },
     "metadata": {},
     "output_type": "display_data"
    },
    {
     "data": {
      "text/html": [
       "<pre>| Initial | 1.002ms      | 1.26279           | 1.12374               |             |</pre>"
      ],
      "text/plain": [
       "| Initial | 1.002ms      | 1.26279           | 1.12374               |             |"
      ]
     },
     "metadata": {},
     "output_type": "display_data"
    },
    {
     "data": {
      "text/html": [
       "<pre>+---------+--------------+-------------------+-----------------------+-------------+</pre>"
      ],
      "text/plain": [
       "+---------+--------------+-------------------+-----------------------+-------------+"
      ]
     },
     "metadata": {},
     "output_type": "display_data"
    },
    {
     "data": {
      "text/html": [
       "<pre>| 1       | 135.014ms    | 1.71189           | 1.29783               | 0.19806     |</pre>"
      ],
      "text/plain": [
       "| 1       | 135.014ms    | 1.71189           | 1.29783               | 0.19806     |"
      ]
     },
     "metadata": {},
     "output_type": "display_data"
    },
    {
     "data": {
      "text/html": [
       "<pre>| 2       | 243ms        | 0.89873           | 0.937253              | 0.19806     |</pre>"
      ],
      "text/plain": [
       "| 2       | 243ms        | 0.89873           | 0.937253              | 0.19806     |"
      ]
     },
     "metadata": {},
     "output_type": "display_data"
    },
    {
     "data": {
      "text/html": [
       "<pre>| 3       | 331.003ms    | 0.860917          | 0.919048              | 0.19806     |</pre>"
      ],
      "text/plain": [
       "| 3       | 331.003ms    | 0.860917          | 0.919048              | 0.19806     |"
      ]
     },
     "metadata": {},
     "output_type": "display_data"
    },
    {
     "data": {
      "text/html": [
       "<pre>| 4       | 479.994ms    | 0.846321          | 0.912355              | 0.19806     |</pre>"
      ],
      "text/plain": [
       "| 4       | 479.994ms    | 0.846321          | 0.912355              | 0.19806     |"
      ]
     },
     "metadata": {},
     "output_type": "display_data"
    },
    {
     "data": {
      "text/html": [
       "<pre>| 5       | 585.992ms    | 0.83933           | 0.909511              | 0.19806     |</pre>"
      ],
      "text/plain": [
       "| 5       | 585.992ms    | 0.83933           | 0.909511              | 0.19806     |"
      ]
     },
     "metadata": {},
     "output_type": "display_data"
    },
    {
     "data": {
      "text/html": [
       "<pre>| 6       | 710.989ms    | 0.834239          | 0.907442              | 0.19806     |</pre>"
      ],
      "text/plain": [
       "| 6       | 710.989ms    | 0.834239          | 0.907442              | 0.19806     |"
      ]
     },
     "metadata": {},
     "output_type": "display_data"
    },
    {
     "data": {
      "text/html": [
       "<pre>| 10      | 1.02s        | 0.824138          | 0.903729              | 0.19806     |</pre>"
      ],
      "text/plain": [
       "| 10      | 1.02s        | 0.824138          | 0.903729              | 0.19806     |"
      ]
     },
     "metadata": {},
     "output_type": "display_data"
    },
    {
     "data": {
      "text/html": [
       "<pre>| 11      | 1.08s        | 0.823066          | 0.903496              | 0.19806     |</pre>"
      ],
      "text/plain": [
       "| 11      | 1.08s        | 0.823066          | 0.903496              | 0.19806     |"
      ]
     },
     "metadata": {},
     "output_type": "display_data"
    },
    {
     "data": {
      "text/html": [
       "<pre>| 20      | 1.83s        | 0.815911          | 0.902101              | 0.19806     |</pre>"
      ],
      "text/plain": [
       "| 20      | 1.83s        | 0.815911          | 0.902101              | 0.19806     |"
      ]
     },
     "metadata": {},
     "output_type": "display_data"
    },
    {
     "data": {
      "text/html": [
       "<pre>| 30      | 2.61s        | 0.813006          | 0.901287              | 0.19806     |</pre>"
      ],
      "text/plain": [
       "| 30      | 2.61s        | 0.813006          | 0.901287              | 0.19806     |"
      ]
     },
     "metadata": {},
     "output_type": "display_data"
    },
    {
     "data": {
      "text/html": [
       "<pre>| 40      | 3.50s        | 0.811512          | 0.900582              | 0.19806     |</pre>"
      ],
      "text/plain": [
       "| 40      | 3.50s        | 0.811512          | 0.900582              | 0.19806     |"
      ]
     },
     "metadata": {},
     "output_type": "display_data"
    },
    {
     "data": {
      "text/html": [
       "<pre>| 50      | 4.28s        | 0.810499          | 0.9                   | 0.19806     |</pre>"
      ],
      "text/plain": [
       "| 50      | 4.28s        | 0.810499          | 0.9                   | 0.19806     |"
      ]
     },
     "metadata": {},
     "output_type": "display_data"
    },
    {
     "data": {
      "text/html": [
       "<pre>+---------+--------------+-------------------+-----------------------+-------------+</pre>"
      ],
      "text/plain": [
       "+---------+--------------+-------------------+-----------------------+-------------+"
      ]
     },
     "metadata": {},
     "output_type": "display_data"
    },
    {
     "data": {
      "text/html": [
       "<pre>Optimization Complete: Maximum number of passes through the data reached.</pre>"
      ],
      "text/plain": [
       "Optimization Complete: Maximum number of passes through the data reached."
      ]
     },
     "metadata": {},
     "output_type": "display_data"
    },
    {
     "data": {
      "text/html": [
       "<pre>Computing final objective value and training RMSE.</pre>"
      ],
      "text/plain": [
       "Computing final objective value and training RMSE."
      ]
     },
     "metadata": {},
     "output_type": "display_data"
    },
    {
     "data": {
      "text/html": [
       "<pre>       Final objective value: 0.804906</pre>"
      ],
      "text/plain": [
       "       Final objective value: 0.804906"
      ]
     },
     "metadata": {},
     "output_type": "display_data"
    },
    {
     "data": {
      "text/html": [
       "<pre>       Final training RMSE: 0.896887</pre>"
      ],
      "text/plain": [
       "       Final training RMSE: 0.896887"
      ]
     },
     "metadata": {},
     "output_type": "display_data"
    },
    {
     "data": {
      "text/html": [
       "<pre>Recsys training: model = factorization_recommender</pre>"
      ],
      "text/plain": [
       "Recsys training: model = factorization_recommender"
      ]
     },
     "metadata": {},
     "output_type": "display_data"
    },
    {
     "data": {
      "text/html": [
       "<pre>Preparing data set.</pre>"
      ],
      "text/plain": [
       "Preparing data set."
      ]
     },
     "metadata": {},
     "output_type": "display_data"
    },
    {
     "data": {
      "text/html": [
       "<pre>    Data has 46466 observations with 568 users and 1580 items.</pre>"
      ],
      "text/plain": [
       "    Data has 46466 observations with 568 users and 1580 items."
      ]
     },
     "metadata": {},
     "output_type": "display_data"
    },
    {
     "data": {
      "text/html": [
       "<pre>    Data prepared in: 0.144994s</pre>"
      ],
      "text/plain": [
       "    Data prepared in: 0.144994s"
      ]
     },
     "metadata": {},
     "output_type": "display_data"
    },
    {
     "data": {
      "text/html": [
       "<pre>Training factorization_recommender for recommendations.</pre>"
      ],
      "text/plain": [
       "Training factorization_recommender for recommendations."
      ]
     },
     "metadata": {},
     "output_type": "display_data"
    },
    {
     "data": {
      "text/html": [
       "<pre>+--------------------------------+--------------------------------------------------+----------+</pre>"
      ],
      "text/plain": [
       "+--------------------------------+--------------------------------------------------+----------+"
      ]
     },
     "metadata": {},
     "output_type": "display_data"
    },
    {
     "data": {
      "text/html": [
       "<pre>| Parameter                      | Description                                      | Value    |</pre>"
      ],
      "text/plain": [
       "| Parameter                      | Description                                      | Value    |"
      ]
     },
     "metadata": {},
     "output_type": "display_data"
    },
    {
     "data": {
      "text/html": [
       "<pre>+--------------------------------+--------------------------------------------------+----------+</pre>"
      ],
      "text/plain": [
       "+--------------------------------+--------------------------------------------------+----------+"
      ]
     },
     "metadata": {},
     "output_type": "display_data"
    },
    {
     "data": {
      "text/html": [
       "<pre>| num_factors                    | Factor Dimension                                 | 8        |</pre>"
      ],
      "text/plain": [
       "| num_factors                    | Factor Dimension                                 | 8        |"
      ]
     },
     "metadata": {},
     "output_type": "display_data"
    },
    {
     "data": {
      "text/html": [
       "<pre>| regularization                 | L2 Regularization on Factors                     | 0.01     |</pre>"
      ],
      "text/plain": [
       "| regularization                 | L2 Regularization on Factors                     | 0.01     |"
      ]
     },
     "metadata": {},
     "output_type": "display_data"
    },
    {
     "data": {
      "text/html": [
       "<pre>| solver                         | Solver used for training                         | adagrad  |</pre>"
      ],
      "text/plain": [
       "| solver                         | Solver used for training                         | adagrad  |"
      ]
     },
     "metadata": {},
     "output_type": "display_data"
    },
    {
     "data": {
      "text/html": [
       "<pre>| linear_regularization          | L2 Regularization on Linear Coefficients         | 1e-010   |</pre>"
      ],
      "text/plain": [
       "| linear_regularization          | L2 Regularization on Linear Coefficients         | 1e-010   |"
      ]
     },
     "metadata": {},
     "output_type": "display_data"
    },
    {
     "data": {
      "text/html": [
       "<pre>| max_iterations                 | Maximum Number of Iterations                     | 50       |</pre>"
      ],
      "text/plain": [
       "| max_iterations                 | Maximum Number of Iterations                     | 50       |"
      ]
     },
     "metadata": {},
     "output_type": "display_data"
    },
    {
     "data": {
      "text/html": [
       "<pre>+--------------------------------+--------------------------------------------------+----------+</pre>"
      ],
      "text/plain": [
       "+--------------------------------+--------------------------------------------------+----------+"
      ]
     },
     "metadata": {},
     "output_type": "display_data"
    },
    {
     "data": {
      "text/html": [
       "<pre>  Optimizing model using SGD; tuning step size.</pre>"
      ],
      "text/plain": [
       "  Optimizing model using SGD; tuning step size."
      ]
     },
     "metadata": {},
     "output_type": "display_data"
    },
    {
     "data": {
      "text/html": [
       "<pre>  Using 10000 / 46466 points for tuning the step size.</pre>"
      ],
      "text/plain": [
       "  Using 10000 / 46466 points for tuning the step size."
      ]
     },
     "metadata": {},
     "output_type": "display_data"
    },
    {
     "data": {
      "text/html": [
       "<pre>+---------+-------------------+------------------------------------------+</pre>"
      ],
      "text/plain": [
       "+---------+-------------------+------------------------------------------+"
      ]
     },
     "metadata": {},
     "output_type": "display_data"
    },
    {
     "data": {
      "text/html": [
       "<pre>| Attempt | Initial Step Size | Estimated Objective Value                |</pre>"
      ],
      "text/plain": [
       "| Attempt | Initial Step Size | Estimated Objective Value                |"
      ]
     },
     "metadata": {},
     "output_type": "display_data"
    },
    {
     "data": {
      "text/html": [
       "<pre>+---------+-------------------+------------------------------------------+</pre>"
      ],
      "text/plain": [
       "+---------+-------------------+------------------------------------------+"
      ]
     },
     "metadata": {},
     "output_type": "display_data"
    },
    {
     "data": {
      "text/html": [
       "<pre>| 0       | 0.158448          | 0.721417                                 |</pre>"
      ],
      "text/plain": [
       "| 0       | 0.158448          | 0.721417                                 |"
      ]
     },
     "metadata": {},
     "output_type": "display_data"
    },
    {
     "data": {
      "text/html": [
       "<pre>| 1       | 0.0792239         | 0.7901                                   |</pre>"
      ],
      "text/plain": [
       "| 1       | 0.0792239         | 0.7901                                   |"
      ]
     },
     "metadata": {},
     "output_type": "display_data"
    },
    {
     "data": {
      "text/html": [
       "<pre>| 2       | 0.0396119         | 0.899581                                 |</pre>"
      ],
      "text/plain": [
       "| 2       | 0.0396119         | 0.899581                                 |"
      ]
     },
     "metadata": {},
     "output_type": "display_data"
    },
    {
     "data": {
      "text/html": [
       "<pre>| 3       | 0.019806          | 1.02111                                  |</pre>"
      ],
      "text/plain": [
       "| 3       | 0.019806          | 1.02111                                  |"
      ]
     },
     "metadata": {},
     "output_type": "display_data"
    },
    {
     "data": {
      "text/html": [
       "<pre>+---------+-------------------+------------------------------------------+</pre>"
      ],
      "text/plain": [
       "+---------+-------------------+------------------------------------------+"
      ]
     },
     "metadata": {},
     "output_type": "display_data"
    },
    {
     "data": {
      "text/html": [
       "<pre>| Final   | 0.158448          | 0.721417                                 |</pre>"
      ],
      "text/plain": [
       "| Final   | 0.158448          | 0.721417                                 |"
      ]
     },
     "metadata": {},
     "output_type": "display_data"
    },
    {
     "data": {
      "text/html": [
       "<pre>+---------+-------------------+------------------------------------------+</pre>"
      ],
      "text/plain": [
       "+---------+-------------------+------------------------------------------+"
      ]
     },
     "metadata": {},
     "output_type": "display_data"
    },
    {
     "data": {
      "text/html": [
       "<pre>Starting Optimization.</pre>"
      ],
      "text/plain": [
       "Starting Optimization."
      ]
     },
     "metadata": {},
     "output_type": "display_data"
    },
    {
     "data": {
      "text/html": [
       "<pre>+---------+--------------+-------------------+-----------------------+-------------+</pre>"
      ],
      "text/plain": [
       "+---------+--------------+-------------------+-----------------------+-------------+"
      ]
     },
     "metadata": {},
     "output_type": "display_data"
    },
    {
     "data": {
      "text/html": [
       "<pre>| Iter.   | Elapsed Time | Approx. Objective | Approx. Training RMSE | Step Size   |</pre>"
      ],
      "text/plain": [
       "| Iter.   | Elapsed Time | Approx. Objective | Approx. Training RMSE | Step Size   |"
      ]
     },
     "metadata": {},
     "output_type": "display_data"
    },
    {
     "data": {
      "text/html": [
       "<pre>+---------+--------------+-------------------+-----------------------+-------------+</pre>"
      ],
      "text/plain": [
       "+---------+--------------+-------------------+-----------------------+-------------+"
      ]
     },
     "metadata": {},
     "output_type": "display_data"
    },
    {
     "data": {
      "text/html": [
       "<pre>| Initial | 999us        | 1.26277           | 1.12373               |             |</pre>"
      ],
      "text/plain": [
       "| Initial | 999us        | 1.26277           | 1.12373               |             |"
      ]
     },
     "metadata": {},
     "output_type": "display_data"
    },
    {
     "data": {
      "text/html": [
       "<pre>+---------+--------------+-------------------+-----------------------+-------------+</pre>"
      ],
      "text/plain": [
       "+---------+--------------+-------------------+-----------------------+-------------+"
      ]
     },
     "metadata": {},
     "output_type": "display_data"
    },
    {
     "data": {
      "text/html": [
       "<pre>| 1       | 271.665ms    | 2.08338           | 1.43192               | 0.158448    |</pre>"
      ],
      "text/plain": [
       "| 1       | 271.665ms    | 2.08338           | 1.43192               | 0.158448    |"
      ]
     },
     "metadata": {},
     "output_type": "display_data"
    },
    {
     "data": {
      "text/html": [
       "<pre>| 2       | 521.49ms     | 0.872404          | 0.927409              | 0.158448    |</pre>"
      ],
      "text/plain": [
       "| 2       | 521.49ms     | 0.872404          | 0.927409              | 0.158448    |"
      ]
     },
     "metadata": {},
     "output_type": "display_data"
    },
    {
     "data": {
      "text/html": [
       "<pre>| 3       | 731.327ms    | 0.847646          | 0.918183              | 0.158448    |</pre>"
      ],
      "text/plain": [
       "| 3       | 731.327ms    | 0.847646          | 0.918183              | 0.158448    |"
      ]
     },
     "metadata": {},
     "output_type": "display_data"
    },
    {
     "data": {
      "text/html": [
       "<pre>| 4       | 935.782ms    | 0.83704           | 0.913966              | 0.158448    |</pre>"
      ],
      "text/plain": [
       "| 4       | 935.782ms    | 0.83704           | 0.913966              | 0.158448    |"
      ]
     },
     "metadata": {},
     "output_type": "display_data"
    },
    {
     "data": {
      "text/html": [
       "<pre>| 5       | 1.17s        | 0.831109          | 0.911304              | 0.158448    |</pre>"
      ],
      "text/plain": [
       "| 5       | 1.17s        | 0.831109          | 0.911304              | 0.158448    |"
      ]
     },
     "metadata": {},
     "output_type": "display_data"
    },
    {
     "data": {
      "text/html": [
       "<pre>| 6       | 1.33s        | 0.82749           | 0.909535              | 0.158448    |</pre>"
      ],
      "text/plain": [
       "| 6       | 1.33s        | 0.82749           | 0.909535              | 0.158448    |"
      ]
     },
     "metadata": {},
     "output_type": "display_data"
    },
    {
     "data": {
      "text/html": [
       "<pre>| 10      | 2.19s        | 0.82054           | 0.905834              | 0.158448    |</pre>"
      ],
      "text/plain": [
       "| 10      | 2.19s        | 0.82054           | 0.905834              | 0.158448    |"
      ]
     },
     "metadata": {},
     "output_type": "display_data"
    },
    {
     "data": {
      "text/html": [
       "<pre>| 11      | 2.48s        | 0.819518          | 0.905271              | 0.158448    |</pre>"
      ],
      "text/plain": [
       "| 11      | 2.48s        | 0.819518          | 0.905271              | 0.158448    |"
      ]
     },
     "metadata": {},
     "output_type": "display_data"
    },
    {
     "data": {
      "text/html": [
       "<pre>| 15      | 2.96s        | 0.816761          | 0.903749              | 0.158448    |</pre>"
      ],
      "text/plain": [
       "| 15      | 2.96s        | 0.816761          | 0.903749              | 0.158448    |"
      ]
     },
     "metadata": {},
     "output_type": "display_data"
    },
    {
     "data": {
      "text/html": [
       "<pre>| 20      | 3.42s        | 0.814692          | 0.902603              | 0.158448    |</pre>"
      ],
      "text/plain": [
       "| 20      | 3.42s        | 0.814692          | 0.902603              | 0.158448    |"
      ]
     },
     "metadata": {},
     "output_type": "display_data"
    },
    {
     "data": {
      "text/html": [
       "<pre>| 25      | 3.86s        | 0.813404          | 0.901889              | 0.158448    |</pre>"
      ],
      "text/plain": [
       "| 25      | 3.86s        | 0.813404          | 0.901889              | 0.158448    |"
      ]
     },
     "metadata": {},
     "output_type": "display_data"
    },
    {
     "data": {
      "text/html": [
       "<pre>| 30      | 4.32s        | 0.812402          | 0.901333              | 0.158448    |</pre>"
      ],
      "text/plain": [
       "| 30      | 4.32s        | 0.812402          | 0.901333              | 0.158448    |"
      ]
     },
     "metadata": {},
     "output_type": "display_data"
    },
    {
     "data": {
      "text/html": [
       "<pre>| 35      | 4.77s        | 0.811573          | 0.900874              | 0.158448    |</pre>"
      ],
      "text/plain": [
       "| 35      | 4.77s        | 0.811573          | 0.900874              | 0.158448    |"
      ]
     },
     "metadata": {},
     "output_type": "display_data"
    },
    {
     "data": {
      "text/html": [
       "<pre>| 40      | 5.22s        | 0.811015          | 0.900564              | 0.158448    |</pre>"
      ],
      "text/plain": [
       "| 40      | 5.22s        | 0.811015          | 0.900564              | 0.158448    |"
      ]
     },
     "metadata": {},
     "output_type": "display_data"
    },
    {
     "data": {
      "text/html": [
       "<pre>| 45      | 5.63s        | 0.81052           | 0.900289              | 0.158448    |</pre>"
      ],
      "text/plain": [
       "| 45      | 5.63s        | 0.81052           | 0.900289              | 0.158448    |"
      ]
     },
     "metadata": {},
     "output_type": "display_data"
    },
    {
     "data": {
      "text/html": [
       "<pre>| 50      | 6.04s        | 0.8101            | 0.900055              | 0.158448    |</pre>"
      ],
      "text/plain": [
       "| 50      | 6.04s        | 0.8101            | 0.900055              | 0.158448    |"
      ]
     },
     "metadata": {},
     "output_type": "display_data"
    },
    {
     "data": {
      "text/html": [
       "<pre>+---------+--------------+-------------------+-----------------------+-------------+</pre>"
      ],
      "text/plain": [
       "+---------+--------------+-------------------+-----------------------+-------------+"
      ]
     },
     "metadata": {},
     "output_type": "display_data"
    },
    {
     "data": {
      "text/html": [
       "<pre>Optimization Complete: Maximum number of passes through the data reached.</pre>"
      ],
      "text/plain": [
       "Optimization Complete: Maximum number of passes through the data reached."
      ]
     },
     "metadata": {},
     "output_type": "display_data"
    },
    {
     "data": {
      "text/html": [
       "<pre>Computing final objective value and training RMSE.</pre>"
      ],
      "text/plain": [
       "Computing final objective value and training RMSE."
      ]
     },
     "metadata": {},
     "output_type": "display_data"
    },
    {
     "data": {
      "text/html": [
       "<pre>       Final objective value: 0.805401</pre>"
      ],
      "text/plain": [
       "       Final objective value: 0.805401"
      ]
     },
     "metadata": {},
     "output_type": "display_data"
    },
    {
     "data": {
      "text/html": [
       "<pre>       Final training RMSE: 0.897441</pre>"
      ],
      "text/plain": [
       "       Final training RMSE: 0.897441"
      ]
     },
     "metadata": {},
     "output_type": "display_data"
    },
    {
     "data": {
      "text/html": [
       "<pre>Recsys training: model = factorization_recommender</pre>"
      ],
      "text/plain": [
       "Recsys training: model = factorization_recommender"
      ]
     },
     "metadata": {},
     "output_type": "display_data"
    },
    {
     "data": {
      "text/html": [
       "<pre>Preparing data set.</pre>"
      ],
      "text/plain": [
       "Preparing data set."
      ]
     },
     "metadata": {},
     "output_type": "display_data"
    },
    {
     "data": {
      "text/html": [
       "<pre>    Data has 46466 observations with 568 users and 1580 items.</pre>"
      ],
      "text/plain": [
       "    Data has 46466 observations with 568 users and 1580 items."
      ]
     },
     "metadata": {},
     "output_type": "display_data"
    },
    {
     "data": {
      "text/html": [
       "<pre>    Data prepared in: 0.109s</pre>"
      ],
      "text/plain": [
       "    Data prepared in: 0.109s"
      ]
     },
     "metadata": {},
     "output_type": "display_data"
    },
    {
     "data": {
      "text/html": [
       "<pre>Training factorization_recommender for recommendations.</pre>"
      ],
      "text/plain": [
       "Training factorization_recommender for recommendations."
      ]
     },
     "metadata": {},
     "output_type": "display_data"
    },
    {
     "data": {
      "text/html": [
       "<pre>+--------------------------------+--------------------------------------------------+----------+</pre>"
      ],
      "text/plain": [
       "+--------------------------------+--------------------------------------------------+----------+"
      ]
     },
     "metadata": {},
     "output_type": "display_data"
    },
    {
     "data": {
      "text/html": [
       "<pre>| Parameter                      | Description                                      | Value    |</pre>"
      ],
      "text/plain": [
       "| Parameter                      | Description                                      | Value    |"
      ]
     },
     "metadata": {},
     "output_type": "display_data"
    },
    {
     "data": {
      "text/html": [
       "<pre>+--------------------------------+--------------------------------------------------+----------+</pre>"
      ],
      "text/plain": [
       "+--------------------------------+--------------------------------------------------+----------+"
      ]
     },
     "metadata": {},
     "output_type": "display_data"
    },
    {
     "data": {
      "text/html": [
       "<pre>| num_factors                    | Factor Dimension                                 | 8        |</pre>"
      ],
      "text/plain": [
       "| num_factors                    | Factor Dimension                                 | 8        |"
      ]
     },
     "metadata": {},
     "output_type": "display_data"
    },
    {
     "data": {
      "text/html": [
       "<pre>| regularization                 | L2 Regularization on Factors                     | 0.1      |</pre>"
      ],
      "text/plain": [
       "| regularization                 | L2 Regularization on Factors                     | 0.1      |"
      ]
     },
     "metadata": {},
     "output_type": "display_data"
    },
    {
     "data": {
      "text/html": [
       "<pre>| solver                         | Solver used for training                         | adagrad  |</pre>"
      ],
      "text/plain": [
       "| solver                         | Solver used for training                         | adagrad  |"
      ]
     },
     "metadata": {},
     "output_type": "display_data"
    },
    {
     "data": {
      "text/html": [
       "<pre>| linear_regularization          | L2 Regularization on Linear Coefficients         | 1e-010   |</pre>"
      ],
      "text/plain": [
       "| linear_regularization          | L2 Regularization on Linear Coefficients         | 1e-010   |"
      ]
     },
     "metadata": {},
     "output_type": "display_data"
    },
    {
     "data": {
      "text/html": [
       "<pre>| max_iterations                 | Maximum Number of Iterations                     | 50       |</pre>"
      ],
      "text/plain": [
       "| max_iterations                 | Maximum Number of Iterations                     | 50       |"
      ]
     },
     "metadata": {},
     "output_type": "display_data"
    },
    {
     "data": {
      "text/html": [
       "<pre>+--------------------------------+--------------------------------------------------+----------+</pre>"
      ],
      "text/plain": [
       "+--------------------------------+--------------------------------------------------+----------+"
      ]
     },
     "metadata": {},
     "output_type": "display_data"
    },
    {
     "data": {
      "text/html": [
       "<pre>  Optimizing model using SGD; tuning step size.</pre>"
      ],
      "text/plain": [
       "  Optimizing model using SGD; tuning step size."
      ]
     },
     "metadata": {},
     "output_type": "display_data"
    },
    {
     "data": {
      "text/html": [
       "<pre>  Using 10000 / 46466 points for tuning the step size.</pre>"
      ],
      "text/plain": [
       "  Using 10000 / 46466 points for tuning the step size."
      ]
     },
     "metadata": {},
     "output_type": "display_data"
    },
    {
     "data": {
      "text/html": [
       "<pre>+---------+-------------------+------------------------------------------+</pre>"
      ],
      "text/plain": [
       "+---------+-------------------+------------------------------------------+"
      ]
     },
     "metadata": {},
     "output_type": "display_data"
    },
    {
     "data": {
      "text/html": [
       "<pre>| Attempt | Initial Step Size | Estimated Objective Value                |</pre>"
      ],
      "text/plain": [
       "| Attempt | Initial Step Size | Estimated Objective Value                |"
      ]
     },
     "metadata": {},
     "output_type": "display_data"
    },
    {
     "data": {
      "text/html": [
       "<pre>+---------+-------------------+------------------------------------------+</pre>"
      ],
      "text/plain": [
       "+---------+-------------------+------------------------------------------+"
      ]
     },
     "metadata": {},
     "output_type": "display_data"
    },
    {
     "data": {
      "text/html": [
       "<pre>| 0       | 0.0158448         | 1.05616                                  |</pre>"
      ],
      "text/plain": [
       "| 0       | 0.0158448         | 1.05616                                  |"
      ]
     },
     "metadata": {},
     "output_type": "display_data"
    },
    {
     "data": {
      "text/html": [
       "<pre>| 1       | 0.00792239        | 1.13638                                  |</pre>"
      ],
      "text/plain": [
       "| 1       | 0.00792239        | 1.13638                                  |"
      ]
     },
     "metadata": {},
     "output_type": "display_data"
    },
    {
     "data": {
      "text/html": [
       "<pre>| 2       | 0.00396119        | 1.18862                                  |</pre>"
      ],
      "text/plain": [
       "| 2       | 0.00396119        | 1.18862                                  |"
      ]
     },
     "metadata": {},
     "output_type": "display_data"
    },
    {
     "data": {
      "text/html": [
       "<pre>| 3       | 0.0019806         | 1.21758                                  |</pre>"
      ],
      "text/plain": [
       "| 3       | 0.0019806         | 1.21758                                  |"
      ]
     },
     "metadata": {},
     "output_type": "display_data"
    },
    {
     "data": {
      "text/html": [
       "<pre>+---------+-------------------+------------------------------------------+</pre>"
      ],
      "text/plain": [
       "+---------+-------------------+------------------------------------------+"
      ]
     },
     "metadata": {},
     "output_type": "display_data"
    },
    {
     "data": {
      "text/html": [
       "<pre>| Final   | 0.0158448         | 1.05616                                  |</pre>"
      ],
      "text/plain": [
       "| Final   | 0.0158448         | 1.05616                                  |"
      ]
     },
     "metadata": {},
     "output_type": "display_data"
    },
    {
     "data": {
      "text/html": [
       "<pre>+---------+-------------------+------------------------------------------+</pre>"
      ],
      "text/plain": [
       "+---------+-------------------+------------------------------------------+"
      ]
     },
     "metadata": {},
     "output_type": "display_data"
    },
    {
     "data": {
      "text/html": [
       "<pre>Starting Optimization.</pre>"
      ],
      "text/plain": [
       "Starting Optimization."
      ]
     },
     "metadata": {},
     "output_type": "display_data"
    },
    {
     "data": {
      "text/html": [
       "<pre>+---------+--------------+-------------------+-----------------------+-------------+</pre>"
      ],
      "text/plain": [
       "+---------+--------------+-------------------+-----------------------+-------------+"
      ]
     },
     "metadata": {},
     "output_type": "display_data"
    },
    {
     "data": {
      "text/html": [
       "<pre>| Iter.   | Elapsed Time | Approx. Objective | Approx. Training RMSE | Step Size   |</pre>"
      ],
      "text/plain": [
       "| Iter.   | Elapsed Time | Approx. Objective | Approx. Training RMSE | Step Size   |"
      ]
     },
     "metadata": {},
     "output_type": "display_data"
    },
    {
     "data": {
      "text/html": [
       "<pre>+---------+--------------+-------------------+-----------------------+-------------+</pre>"
      ],
      "text/plain": [
       "+---------+--------------+-------------------+-----------------------+-------------+"
      ]
     },
     "metadata": {},
     "output_type": "display_data"
    },
    {
     "data": {
      "text/html": [
       "<pre>| Initial | 0us          | 1.26279           | 1.12374               |             |</pre>"
      ],
      "text/plain": [
       "| Initial | 0us          | 1.26279           | 1.12374               |             |"
      ]
     },
     "metadata": {},
     "output_type": "display_data"
    },
    {
     "data": {
      "text/html": [
       "<pre>+---------+--------------+-------------------+-----------------------+-------------+</pre>"
      ],
      "text/plain": [
       "+---------+--------------+-------------------+-----------------------+-------------+"
      ]
     },
     "metadata": {},
     "output_type": "display_data"
    },
    {
     "data": {
      "text/html": [
       "<pre>| 1       | 109.995ms    | 1.16953           | 1.07972               | 0.0158448   |</pre>"
      ],
      "text/plain": [
       "| 1       | 109.995ms    | 1.16953           | 1.07972               | 0.0158448   |"
      ]
     },
     "metadata": {},
     "output_type": "display_data"
    },
    {
     "data": {
      "text/html": [
       "<pre>| 2       | 214.994ms    | 1.08654           | 1.04237               | 0.0158448   |</pre>"
      ],
      "text/plain": [
       "| 2       | 214.994ms    | 1.08654           | 1.04237               | 0.0158448   |"
      ]
     },
     "metadata": {},
     "output_type": "display_data"
    },
    {
     "data": {
      "text/html": [
       "<pre>| 3       | 292.996ms    | 1.04746           | 1.02346               | 0.0158448   |</pre>"
      ],
      "text/plain": [
       "| 3       | 292.996ms    | 1.04746           | 1.02346               | 0.0158448   |"
      ]
     },
     "metadata": {},
     "output_type": "display_data"
    },
    {
     "data": {
      "text/html": [
       "<pre>| 4       | 397.992ms    | 1.0211            | 1.01049               | 0.0158448   |</pre>"
      ],
      "text/plain": [
       "| 4       | 397.992ms    | 1.0211            | 1.01049               | 0.0158448   |"
      ]
     },
     "metadata": {},
     "output_type": "display_data"
    },
    {
     "data": {
      "text/html": [
       "<pre>| 5       | 476.994ms    | 1.00146           | 1.00073               | 0.0158448   |</pre>"
      ],
      "text/plain": [
       "| 5       | 476.994ms    | 1.00146           | 1.00073               | 0.0158448   |"
      ]
     },
     "metadata": {},
     "output_type": "display_data"
    },
    {
     "data": {
      "text/html": [
       "<pre>| 6       | 544.989ms    | 0.985963          | 0.992957              | 0.0158448   |</pre>"
      ],
      "text/plain": [
       "| 6       | 544.989ms    | 0.985963          | 0.992957              | 0.0158448   |"
      ]
     },
     "metadata": {},
     "output_type": "display_data"
    },
    {
     "data": {
      "text/html": [
       "<pre>| 11      | 932.985ms    | 0.939229          | 0.969138              | 0.0158448   |</pre>"
      ],
      "text/plain": [
       "| 11      | 932.985ms    | 0.939229          | 0.969138              | 0.0158448   |"
      ]
     },
     "metadata": {},
     "output_type": "display_data"
    },
    {
     "data": {
      "text/html": [
       "<pre>| 25      | 2.09s        | 0.891438          | 0.94416               | 0.0158448   |</pre>"
      ],
      "text/plain": [
       "| 25      | 2.09s        | 0.891438          | 0.94416               | 0.0158448   |"
      ]
     },
     "metadata": {},
     "output_type": "display_data"
    },
    {
     "data": {
      "text/html": [
       "<pre>| 50      | 4.59s        | 0.864997          | 0.930052              | 0.0158448   |</pre>"
      ],
      "text/plain": [
       "| 50      | 4.59s        | 0.864997          | 0.930052              | 0.0158448   |"
      ]
     },
     "metadata": {},
     "output_type": "display_data"
    },
    {
     "data": {
      "text/html": [
       "<pre>+---------+--------------+-------------------+-----------------------+-------------+</pre>"
      ],
      "text/plain": [
       "+---------+--------------+-------------------+-----------------------+-------------+"
      ]
     },
     "metadata": {},
     "output_type": "display_data"
    },
    {
     "data": {
      "text/html": [
       "<pre>Optimization Complete: Maximum number of passes through the data reached.</pre>"
      ],
      "text/plain": [
       "Optimization Complete: Maximum number of passes through the data reached."
      ]
     },
     "metadata": {},
     "output_type": "display_data"
    },
    {
     "data": {
      "text/html": [
       "<pre>Computing final objective value and training RMSE.</pre>"
      ],
      "text/plain": [
       "Computing final objective value and training RMSE."
      ]
     },
     "metadata": {},
     "output_type": "display_data"
    },
    {
     "data": {
      "text/html": [
       "<pre>       Final objective value: 0.864189</pre>"
      ],
      "text/plain": [
       "       Final objective value: 0.864189"
      ]
     },
     "metadata": {},
     "output_type": "display_data"
    },
    {
     "data": {
      "text/html": [
       "<pre>       Final training RMSE: 0.929618</pre>"
      ],
      "text/plain": [
       "       Final training RMSE: 0.929618"
      ]
     },
     "metadata": {},
     "output_type": "display_data"
    },
    {
     "name": "stdout",
     "output_type": "stream",
     "text": [
      "Best Regularization Term 0.01\n",
      "Best Validation RMSE Achieved 0.941334138331\n"
     ]
    },
    {
     "data": {
      "text/html": [
       "<pre>Recsys training: model = factorization_recommender</pre>"
      ],
      "text/plain": [
       "Recsys training: model = factorization_recommender"
      ]
     },
     "metadata": {},
     "output_type": "display_data"
    },
    {
     "data": {
      "text/html": [
       "<pre>Preparing data set.</pre>"
      ],
      "text/plain": [
       "Preparing data set."
      ]
     },
     "metadata": {},
     "output_type": "display_data"
    },
    {
     "data": {
      "text/html": [
       "<pre>    Data has 46466 observations with 568 users and 1580 items.</pre>"
      ],
      "text/plain": [
       "    Data has 46466 observations with 568 users and 1580 items."
      ]
     },
     "metadata": {},
     "output_type": "display_data"
    },
    {
     "data": {
      "text/html": [
       "<pre>    Data prepared in: 0.094012s</pre>"
      ],
      "text/plain": [
       "    Data prepared in: 0.094012s"
      ]
     },
     "metadata": {},
     "output_type": "display_data"
    },
    {
     "data": {
      "text/html": [
       "<pre>Training factorization_recommender for recommendations.</pre>"
      ],
      "text/plain": [
       "Training factorization_recommender for recommendations."
      ]
     },
     "metadata": {},
     "output_type": "display_data"
    },
    {
     "data": {
      "text/html": [
       "<pre>+--------------------------------+--------------------------------------------------+----------+</pre>"
      ],
      "text/plain": [
       "+--------------------------------+--------------------------------------------------+----------+"
      ]
     },
     "metadata": {},
     "output_type": "display_data"
    },
    {
     "data": {
      "text/html": [
       "<pre>| Parameter                      | Description                                      | Value    |</pre>"
      ],
      "text/plain": [
       "| Parameter                      | Description                                      | Value    |"
      ]
     },
     "metadata": {},
     "output_type": "display_data"
    },
    {
     "data": {
      "text/html": [
       "<pre>+--------------------------------+--------------------------------------------------+----------+</pre>"
      ],
      "text/plain": [
       "+--------------------------------+--------------------------------------------------+----------+"
      ]
     },
     "metadata": {},
     "output_type": "display_data"
    },
    {
     "data": {
      "text/html": [
       "<pre>| num_factors                    | Factor Dimension                                 | 8        |</pre>"
      ],
      "text/plain": [
       "| num_factors                    | Factor Dimension                                 | 8        |"
      ]
     },
     "metadata": {},
     "output_type": "display_data"
    },
    {
     "data": {
      "text/html": [
       "<pre>| regularization                 | L2 Regularization on Factors                     | 0.01     |</pre>"
      ],
      "text/plain": [
       "| regularization                 | L2 Regularization on Factors                     | 0.01     |"
      ]
     },
     "metadata": {},
     "output_type": "display_data"
    },
    {
     "data": {
      "text/html": [
       "<pre>| solver                         | Solver used for training                         | adagrad  |</pre>"
      ],
      "text/plain": [
       "| solver                         | Solver used for training                         | adagrad  |"
      ]
     },
     "metadata": {},
     "output_type": "display_data"
    },
    {
     "data": {
      "text/html": [
       "<pre>| linear_regularization          | L2 Regularization on Linear Coefficients         | 1e-010   |</pre>"
      ],
      "text/plain": [
       "| linear_regularization          | L2 Regularization on Linear Coefficients         | 1e-010   |"
      ]
     },
     "metadata": {},
     "output_type": "display_data"
    },
    {
     "data": {
      "text/html": [
       "<pre>| max_iterations                 | Maximum Number of Iterations                     | 50       |</pre>"
      ],
      "text/plain": [
       "| max_iterations                 | Maximum Number of Iterations                     | 50       |"
      ]
     },
     "metadata": {},
     "output_type": "display_data"
    },
    {
     "data": {
      "text/html": [
       "<pre>+--------------------------------+--------------------------------------------------+----------+</pre>"
      ],
      "text/plain": [
       "+--------------------------------+--------------------------------------------------+----------+"
      ]
     },
     "metadata": {},
     "output_type": "display_data"
    },
    {
     "data": {
      "text/html": [
       "<pre>  Optimizing model using SGD; tuning step size.</pre>"
      ],
      "text/plain": [
       "  Optimizing model using SGD; tuning step size."
      ]
     },
     "metadata": {},
     "output_type": "display_data"
    },
    {
     "data": {
      "text/html": [
       "<pre>  Using 10000 / 46466 points for tuning the step size.</pre>"
      ],
      "text/plain": [
       "  Using 10000 / 46466 points for tuning the step size."
      ]
     },
     "metadata": {},
     "output_type": "display_data"
    },
    {
     "data": {
      "text/html": [
       "<pre>+---------+-------------------+------------------------------------------+</pre>"
      ],
      "text/plain": [
       "+---------+-------------------+------------------------------------------+"
      ]
     },
     "metadata": {},
     "output_type": "display_data"
    },
    {
     "data": {
      "text/html": [
       "<pre>| Attempt | Initial Step Size | Estimated Objective Value                |</pre>"
      ],
      "text/plain": [
       "| Attempt | Initial Step Size | Estimated Objective Value                |"
      ]
     },
     "metadata": {},
     "output_type": "display_data"
    },
    {
     "data": {
      "text/html": [
       "<pre>+---------+-------------------+------------------------------------------+</pre>"
      ],
      "text/plain": [
       "+---------+-------------------+------------------------------------------+"
      ]
     },
     "metadata": {},
     "output_type": "display_data"
    },
    {
     "data": {
      "text/html": [
       "<pre>| 0       | 0.158448          | Not Viable                               |</pre>"
      ],
      "text/plain": [
       "| 0       | 0.158448          | Not Viable                               |"
      ]
     },
     "metadata": {},
     "output_type": "display_data"
    },
    {
     "data": {
      "text/html": [
       "<pre>| 1       | 0.0396119         | 0.910387                                 |</pre>"
      ],
      "text/plain": [
       "| 1       | 0.0396119         | 0.910387                                 |"
      ]
     },
     "metadata": {},
     "output_type": "display_data"
    },
    {
     "data": {
      "text/html": [
       "<pre>| 2       | 0.019806          | 1.03174                                  |</pre>"
      ],
      "text/plain": [
       "| 2       | 0.019806          | 1.03174                                  |"
      ]
     },
     "metadata": {},
     "output_type": "display_data"
    },
    {
     "data": {
      "text/html": [
       "<pre>| 3       | 0.00990298        | 1.12922                                  |</pre>"
      ],
      "text/plain": [
       "| 3       | 0.00990298        | 1.12922                                  |"
      ]
     },
     "metadata": {},
     "output_type": "display_data"
    },
    {
     "data": {
      "text/html": [
       "<pre>| 4       | 0.00495149        | 1.19513                                  |</pre>"
      ],
      "text/plain": [
       "| 4       | 0.00495149        | 1.19513                                  |"
      ]
     },
     "metadata": {},
     "output_type": "display_data"
    },
    {
     "data": {
      "text/html": [
       "<pre>+---------+-------------------+------------------------------------------+</pre>"
      ],
      "text/plain": [
       "+---------+-------------------+------------------------------------------+"
      ]
     },
     "metadata": {},
     "output_type": "display_data"
    },
    {
     "data": {
      "text/html": [
       "<pre>| Final   | 0.0396119         | 0.910387                                 |</pre>"
      ],
      "text/plain": [
       "| Final   | 0.0396119         | 0.910387                                 |"
      ]
     },
     "metadata": {},
     "output_type": "display_data"
    },
    {
     "data": {
      "text/html": [
       "<pre>+---------+-------------------+------------------------------------------+</pre>"
      ],
      "text/plain": [
       "+---------+-------------------+------------------------------------------+"
      ]
     },
     "metadata": {},
     "output_type": "display_data"
    },
    {
     "data": {
      "text/html": [
       "<pre>Starting Optimization.</pre>"
      ],
      "text/plain": [
       "Starting Optimization."
      ]
     },
     "metadata": {},
     "output_type": "display_data"
    },
    {
     "data": {
      "text/html": [
       "<pre>+---------+--------------+-------------------+-----------------------+-------------+</pre>"
      ],
      "text/plain": [
       "+---------+--------------+-------------------+-----------------------+-------------+"
      ]
     },
     "metadata": {},
     "output_type": "display_data"
    },
    {
     "data": {
      "text/html": [
       "<pre>| Iter.   | Elapsed Time | Approx. Objective | Approx. Training RMSE | Step Size   |</pre>"
      ],
      "text/plain": [
       "| Iter.   | Elapsed Time | Approx. Objective | Approx. Training RMSE | Step Size   |"
      ]
     },
     "metadata": {},
     "output_type": "display_data"
    },
    {
     "data": {
      "text/html": [
       "<pre>+---------+--------------+-------------------+-----------------------+-------------+</pre>"
      ],
      "text/plain": [
       "+---------+--------------+-------------------+-----------------------+-------------+"
      ]
     },
     "metadata": {},
     "output_type": "display_data"
    },
    {
     "data": {
      "text/html": [
       "<pre>| Initial | 0us          | 1.26279           | 1.12374               |             |</pre>"
      ],
      "text/plain": [
       "| Initial | 0us          | 1.26279           | 1.12374               |             |"
      ]
     },
     "metadata": {},
     "output_type": "display_data"
    },
    {
     "data": {
      "text/html": [
       "<pre>+---------+--------------+-------------------+-----------------------+-------------+</pre>"
      ],
      "text/plain": [
       "+---------+--------------+-------------------+-----------------------+-------------+"
      ]
     },
     "metadata": {},
     "output_type": "display_data"
    },
    {
     "data": {
      "text/html": [
       "<pre>| 1       | 119.999ms    | 1.08953           | 1.033                 | 0.0396119   |</pre>"
      ],
      "text/plain": [
       "| 1       | 119.999ms    | 1.08953           | 1.033                 | 0.0396119   |"
      ]
     },
     "metadata": {},
     "output_type": "display_data"
    },
    {
     "data": {
      "text/html": [
       "<pre>| 2       | 282.996ms    | 0.964155          | 0.981914              | 0.0396119   |</pre>"
      ],
      "text/plain": [
       "| 2       | 282.996ms    | 0.964155          | 0.981914              | 0.0396119   |"
      ]
     },
     "metadata": {},
     "output_type": "display_data"
    },
    {
     "data": {
      "text/html": [
       "<pre>| 3       | 548.989ms    | 0.924857          | 0.961695              | 0.0396119   |</pre>"
      ],
      "text/plain": [
       "| 3       | 548.989ms    | 0.924857          | 0.961695              | 0.0396119   |"
      ]
     },
     "metadata": {},
     "output_type": "display_data"
    },
    {
     "data": {
      "text/html": [
       "<pre>| 4       | 687.99ms     | 0.903461          | 0.950506              | 0.0396119   |</pre>"
      ],
      "text/plain": [
       "| 4       | 687.99ms     | 0.903461          | 0.950506              | 0.0396119   |"
      ]
     },
     "metadata": {},
     "output_type": "display_data"
    },
    {
     "data": {
      "text/html": [
       "<pre>| 5       | 823.991ms    | 0.88967           | 0.943223              | 0.0396119   |</pre>"
      ],
      "text/plain": [
       "| 5       | 823.991ms    | 0.88967           | 0.943223              | 0.0396119   |"
      ]
     },
     "metadata": {},
     "output_type": "display_data"
    },
    {
     "data": {
      "text/html": [
       "<pre>| 6       | 1.00s        | 0.879926          | 0.938044              | 0.0396119   |</pre>"
      ],
      "text/plain": [
       "| 6       | 1.00s        | 0.879926          | 0.938044              | 0.0396119   |"
      ]
     },
     "metadata": {},
     "output_type": "display_data"
    },
    {
     "data": {
      "text/html": [
       "<pre>| 10      | 1.47s        | 0.858655          | 0.926636              | 0.0396119   |</pre>"
      ],
      "text/plain": [
       "| 10      | 1.47s        | 0.858655          | 0.926636              | 0.0396119   |"
      ]
     },
     "metadata": {},
     "output_type": "display_data"
    },
    {
     "data": {
      "text/html": [
       "<pre>| 11      | 1.57s        | 0.855528          | 0.924948              | 0.0396119   |</pre>"
      ],
      "text/plain": [
       "| 11      | 1.57s        | 0.855528          | 0.924948              | 0.0396119   |"
      ]
     },
     "metadata": {},
     "output_type": "display_data"
    },
    {
     "data": {
      "text/html": [
       "<pre>| 20      | 2.28s        | 0.839798          | 0.916405              | 0.0396119   |</pre>"
      ],
      "text/plain": [
       "| 20      | 2.28s        | 0.839798          | 0.916405              | 0.0396119   |"
      ]
     },
     "metadata": {},
     "output_type": "display_data"
    },
    {
     "data": {
      "text/html": [
       "<pre>| 30      | 3.19s        | 0.832098          | 0.912194              | 0.0396119   |</pre>"
      ],
      "text/plain": [
       "| 30      | 3.19s        | 0.832098          | 0.912194              | 0.0396119   |"
      ]
     },
     "metadata": {},
     "output_type": "display_data"
    },
    {
     "data": {
      "text/html": [
       "<pre>| 40      | 4.11s        | 0.827731          | 0.909797              | 0.0396119   |</pre>"
      ],
      "text/plain": [
       "| 40      | 4.11s        | 0.827731          | 0.909797              | 0.0396119   |"
      ]
     },
     "metadata": {},
     "output_type": "display_data"
    },
    {
     "data": {
      "text/html": [
       "<pre>| 50      | 5.07s        | 0.824785          | 0.908177              | 0.0396119   |</pre>"
      ],
      "text/plain": [
       "| 50      | 5.07s        | 0.824785          | 0.908177              | 0.0396119   |"
      ]
     },
     "metadata": {},
     "output_type": "display_data"
    },
    {
     "data": {
      "text/html": [
       "<pre>+---------+--------------+-------------------+-----------------------+-------------+</pre>"
      ],
      "text/plain": [
       "+---------+--------------+-------------------+-----------------------+-------------+"
      ]
     },
     "metadata": {},
     "output_type": "display_data"
    },
    {
     "data": {
      "text/html": [
       "<pre>Optimization Complete: Maximum number of passes through the data reached.</pre>"
      ],
      "text/plain": [
       "Optimization Complete: Maximum number of passes through the data reached."
      ]
     },
     "metadata": {},
     "output_type": "display_data"
    },
    {
     "data": {
      "text/html": [
       "<pre>Computing final objective value and training RMSE.</pre>"
      ],
      "text/plain": [
       "Computing final objective value and training RMSE."
      ]
     },
     "metadata": {},
     "output_type": "display_data"
    },
    {
     "data": {
      "text/html": [
       "<pre>       Final objective value: 0.823452</pre>"
      ],
      "text/plain": [
       "       Final objective value: 0.823452"
      ]
     },
     "metadata": {},
     "output_type": "display_data"
    },
    {
     "data": {
      "text/html": [
       "<pre>       Final training RMSE: 0.907443</pre>"
      ],
      "text/plain": [
       "       Final training RMSE: 0.907443"
      ]
     },
     "metadata": {},
     "output_type": "display_data"
    }
   ],
   "source": [
    "regularization_terms = [10**-5,10**-4,10**-3,10**-2,10**-1]\n",
    "best_regularization_term=0\n",
    "best_RMSE = np.inf\n",
    "for regularization_term in regularization_terms:\n",
    "    factorization_recommender = gl.recommender.factorization_recommender.create(sframe_train, target='rating', regularization=regularization_term )\n",
    "    evaluation = factorization_recommender.evaluate_rmse(sframe_validate, 'rating')\n",
    "    if evaluation['rmse_overall'] < best_RMSE :\n",
    "        best_RMSE = evaluation['rmse_overall']\n",
    "        best_regularization_term = regularization_term\n",
    "print (\"Best Regularization Term \" + str(best_regularization_term))\n",
    "print (\"Best Validation RMSE Achieved \" +  str(best_RMSE))       \n",
    "\n",
    "factorization_recommender = gl.recommender.factorization_recommender.create(sframe_train, target= 'rating', regularization=best_regularization_term)\n",
    "\n",
    "  "
   ]
  },
  {
   "cell_type": "markdown",
   "metadata": {},
   "source": [
    "## Item to Item Collaborative Recommender"
   ]
  },
  {
   "cell_type": "code",
   "execution_count": 56,
   "metadata": {
    "collapsed": false
   },
   "outputs": [
    {
     "data": {
      "text/html": [
       "<pre>Recsys training: model = item_similarity</pre>"
      ],
      "text/plain": [
       "Recsys training: model = item_similarity"
      ]
     },
     "metadata": {},
     "output_type": "display_data"
    },
    {
     "data": {
      "text/html": [
       "<pre>Warning: Ignoring columns timestamp;</pre>"
      ],
      "text/plain": [
       "Warning: Ignoring columns timestamp;"
      ]
     },
     "metadata": {},
     "output_type": "display_data"
    },
    {
     "data": {
      "text/html": [
       "<pre>    To use these columns in scoring predictions, use a model that allows the use of additional features.</pre>"
      ],
      "text/plain": [
       "    To use these columns in scoring predictions, use a model that allows the use of additional features."
      ]
     },
     "metadata": {},
     "output_type": "display_data"
    },
    {
     "data": {
      "text/html": [
       "<pre>Preparing data set.</pre>"
      ],
      "text/plain": [
       "Preparing data set."
      ]
     },
     "metadata": {},
     "output_type": "display_data"
    },
    {
     "data": {
      "text/html": [
       "<pre>    Data has 46466 observations with 568 users and 1580 items.</pre>"
      ],
      "text/plain": [
       "    Data has 46466 observations with 568 users and 1580 items."
      ]
     },
     "metadata": {},
     "output_type": "display_data"
    },
    {
     "data": {
      "text/html": [
       "<pre>    Data prepared in: 0.105s</pre>"
      ],
      "text/plain": [
       "    Data prepared in: 0.105s"
      ]
     },
     "metadata": {},
     "output_type": "display_data"
    },
    {
     "data": {
      "text/html": [
       "<pre>Training model from provided data.</pre>"
      ],
      "text/plain": [
       "Training model from provided data."
      ]
     },
     "metadata": {},
     "output_type": "display_data"
    },
    {
     "data": {
      "text/html": [
       "<pre>Gathering per-item and per-user statistics.</pre>"
      ],
      "text/plain": [
       "Gathering per-item and per-user statistics."
      ]
     },
     "metadata": {},
     "output_type": "display_data"
    },
    {
     "data": {
      "text/html": [
       "<pre>+--------------------------------+------------+</pre>"
      ],
      "text/plain": [
       "+--------------------------------+------------+"
      ]
     },
     "metadata": {},
     "output_type": "display_data"
    },
    {
     "data": {
      "text/html": [
       "<pre>| Elapsed Time (Item Statistics) | % Complete |</pre>"
      ],
      "text/plain": [
       "| Elapsed Time (Item Statistics) | % Complete |"
      ]
     },
     "metadata": {},
     "output_type": "display_data"
    },
    {
     "data": {
      "text/html": [
       "<pre>+--------------------------------+------------+</pre>"
      ],
      "text/plain": [
       "+--------------------------------+------------+"
      ]
     },
     "metadata": {},
     "output_type": "display_data"
    },
    {
     "data": {
      "text/html": [
       "<pre>| 3.003ms                        | 100        |</pre>"
      ],
      "text/plain": [
       "| 3.003ms                        | 100        |"
      ]
     },
     "metadata": {},
     "output_type": "display_data"
    },
    {
     "data": {
      "text/html": [
       "<pre>+--------------------------------+------------+</pre>"
      ],
      "text/plain": [
       "+--------------------------------+------------+"
      ]
     },
     "metadata": {},
     "output_type": "display_data"
    },
    {
     "data": {
      "text/html": [
       "<pre>Setting up lookup tables.</pre>"
      ],
      "text/plain": [
       "Setting up lookup tables."
      ]
     },
     "metadata": {},
     "output_type": "display_data"
    },
    {
     "data": {
      "text/html": [
       "<pre>Processing data in one pass using dense lookup tables.</pre>"
      ],
      "text/plain": [
       "Processing data in one pass using dense lookup tables."
      ]
     },
     "metadata": {},
     "output_type": "display_data"
    },
    {
     "data": {
      "text/html": [
       "<pre>+-------------------------------------+------------------+-----------------+</pre>"
      ],
      "text/plain": [
       "+-------------------------------------+------------------+-----------------+"
      ]
     },
     "metadata": {},
     "output_type": "display_data"
    },
    {
     "data": {
      "text/html": [
       "<pre>| Elapsed Time (Constructing Lookups) | Total % Complete | Items Processed |</pre>"
      ],
      "text/plain": [
       "| Elapsed Time (Constructing Lookups) | Total % Complete | Items Processed |"
      ]
     },
     "metadata": {},
     "output_type": "display_data"
    },
    {
     "data": {
      "text/html": [
       "<pre>+-------------------------------------+------------------+-----------------+</pre>"
      ],
      "text/plain": [
       "+-------------------------------------+------------------+-----------------+"
      ]
     },
     "metadata": {},
     "output_type": "display_data"
    },
    {
     "data": {
      "text/html": [
       "<pre>| 28.014ms                            | 0                | 0               |</pre>"
      ],
      "text/plain": [
       "| 28.014ms                            | 0                | 0               |"
      ]
     },
     "metadata": {},
     "output_type": "display_data"
    },
    {
     "data": {
      "text/html": [
       "<pre>| 211.995ms                           | 100              | 1580            |</pre>"
      ],
      "text/plain": [
       "| 211.995ms                           | 100              | 1580            |"
      ]
     },
     "metadata": {},
     "output_type": "display_data"
    },
    {
     "data": {
      "text/html": [
       "<pre>+-------------------------------------+------------------+-----------------+</pre>"
      ],
      "text/plain": [
       "+-------------------------------------+------------------+-----------------+"
      ]
     },
     "metadata": {},
     "output_type": "display_data"
    },
    {
     "data": {
      "text/html": [
       "<pre>Finalizing lookup tables.</pre>"
      ],
      "text/plain": [
       "Finalizing lookup tables."
      ]
     },
     "metadata": {},
     "output_type": "display_data"
    },
    {
     "data": {
      "text/html": [
       "<pre>Generating candidate set for working with new users.</pre>"
      ],
      "text/plain": [
       "Generating candidate set for working with new users."
      ]
     },
     "metadata": {},
     "output_type": "display_data"
    }
   ],
   "source": [
    "item_similarity_recommender = gl.recommender.item_similarity_recommender.create(sframe_train, target= \"rating\") \n",
    " "
   ]
  },
  {
   "cell_type": "markdown",
   "metadata": {},
   "source": [
    "## Evaluating Model Performance"
   ]
  },
  {
   "cell_type": "markdown",
   "metadata": {},
   "source": [
    "With recommender systems, we can evaluate models using two different metrics, RMSE and precision-recall. RMSE measures how well the model predicts the score of the user, while precision-recall measures how well the recommend() function recommends items that the user also chooses. For example, the best RMSE value is when the model exactly predicts the value of all the ratings in the test set. Similarly, the best precision-recall value is when the user has 5 items in the test set and recommend() recommends exactly those 5 items. While both can be important depending on the type of data and desired task, precision-recall is often more useful in evaluating how well a recommender system will perform in practice.\n",
    "Once training and test set are generated, the gl.recommender.util.compare_models function allows easy evaluation of several models using either RMSE or precision-recall. These models may the same models with different parameters or completely different types of model.\n"
   ]
  },
  {
   "cell_type": "markdown",
   "metadata": {},
   "source": [
    "## RMSE comparision"
   ]
  },
  {
   "cell_type": "code",
   "execution_count": 57,
   "metadata": {
    "collapsed": false
   },
   "outputs": [
    {
     "data": {
      "text/html": [
       "<pre>Finished training in 0.222997s</pre>"
      ],
      "text/plain": [
       "Finished training in 0.222997s"
      ]
     },
     "metadata": {},
     "output_type": "display_data"
    },
    {
     "name": "stdout",
     "output_type": "stream",
     "text": [
      "Test RMSE on Popularity filtering 1.02712241805\n",
      "Test RMSE on User to User Collaborative filtering 0.939317033631\n",
      "Test RMSE on Item to Item Collaborative filtering 3.67206778948\n"
     ]
    }
   ],
   "source": [
    "print (\"Test RMSE on Popularity filtering \" + str (popularity_recommender.evaluate_rmse(sframe_test, 'rating')['rmse_overall']))\n",
    "print (\"Test RMSE on User to User Collaborative filtering \" + str (factorization_recommender.evaluate_rmse(sframe_test, 'rating')['rmse_overall']))\n",
    "print (\"Test RMSE on Item to Item Collaborative filtering \" +  str( item_similarity_recommender.evaluate_rmse(sframe_test, \"rating\")[\"rmse_overall\"]))  "
   ]
  },
  {
   "cell_type": "markdown",
   "metadata": {},
   "source": [
    "Based on the above RMSE stats, User to User Collaborative filtering provides a better model."
   ]
  },
  {
   "cell_type": "markdown",
   "metadata": {},
   "source": [
    "## Precision/recall matrix for each model."
   ]
  },
  {
   "cell_type": "code",
   "execution_count": 58,
   "metadata": {
    "collapsed": false,
    "scrolled": true
   },
   "outputs": [
    {
     "name": "stdout",
     "output_type": "stream",
     "text": [
      "PROGRESS: Evaluate model popularity\n",
      "\n",
      "Precision and recall summary statistics by cutoff\n",
      "+--------+------------------+-------------------+\n",
      "| cutoff |  mean_precision  |    mean_recall    |\n",
      "+--------+------------------+-------------------+\n",
      "|   1    | 0.00176056338028 | 2.75088028169e-05 |\n",
      "|   2    | 0.00176056338028 | 5.30242141253e-05 |\n",
      "|   3    | 0.00176056338028 | 9.30370182226e-05 |\n",
      "|   4    | 0.00220070422535 | 0.000178213464796 |\n",
      "|   5    | 0.00211267605634 | 0.000202330771376 |\n",
      "|   6    | 0.00205399061033 | 0.000254112047266 |\n",
      "|   7    | 0.00201207243461 | 0.000266338181852 |\n",
      "|   8    | 0.00198063380282 |  0.0002749683945  |\n",
      "|   9    | 0.00195618153365 | 0.000283598607148 |\n",
      "|   10   | 0.00193661971831 | 0.000292228819797 |\n",
      "+--------+------------------+-------------------+\n",
      "[10 rows x 3 columns]\n",
      "\n",
      "PROGRESS: Evaluate model factorization\n",
      "\n",
      "Precision and recall summary statistics by cutoff\n",
      "+--------+----------------+------------------+\n",
      "| cutoff | mean_precision |   mean_recall    |\n",
      "+--------+----------------+------------------+\n",
      "|   1    | 0.137323943662 | 0.00283110623304 |\n",
      "|   2    | 0.107394366197 | 0.00434363295501 |\n",
      "|   3    | 0.107981220657 | 0.00710874408549 |\n",
      "|   4    | 0.117517605634 | 0.0103405679367  |\n",
      "|   5    | 0.128873239437 | 0.0143211032345  |\n",
      "|   6    | 0.144072769953 | 0.0195447711147  |\n",
      "|   7    | 0.156941649899 | 0.0250312201823  |\n",
      "|   8    | 0.166813380282 | 0.0313462288681  |\n",
      "|   9    | 0.167057902973 | 0.0353933073057  |\n",
      "|   10   | 0.164612676056 | 0.0387702285521  |\n",
      "+--------+----------------+------------------+\n",
      "[10 rows x 3 columns]\n",
      "\n",
      "PROGRESS: Evaluate model item_similarity\n",
      "\n",
      "Precision and recall summary statistics by cutoff\n",
      "+--------+----------------+-----------------+\n",
      "| cutoff | mean_precision |   mean_recall   |\n",
      "+--------+----------------+-----------------+\n",
      "|   1    | 0.415492957746 | 0.0117199645367 |\n",
      "|   2    | 0.401408450704 | 0.0215845321775 |\n",
      "|   3    | 0.399061032864 | 0.0325167886922 |\n",
      "|   4    | 0.394366197183 | 0.0423052761564 |\n",
      "|   5    | 0.385211267606 | 0.0513640564471 |\n",
      "|   6    | 0.37705399061  | 0.0602222902076 |\n",
      "|   7    | 0.367957746479 | 0.0677989227879 |\n",
      "|   8    | 0.367077464789 | 0.0772266336752 |\n",
      "|   9    | 0.365805946792 | 0.0860125552661 |\n",
      "|   10   | 0.361267605634 | 0.0950774918463 |\n",
      "+--------+----------------+-----------------+\n",
      "[10 rows x 3 columns]\n",
      "\n"
     ]
    },
    {
     "data": {
      "text/plain": [
       "[{'precision_recall_by_user': Columns:\n",
       "  \tuser_id\tint\n",
       "  \tcutoff\tint\n",
       "  \tprecision\tfloat\n",
       "  \trecall\tfloat\n",
       "  \tcount\tint\n",
       "  \n",
       "  Rows: 10224\n",
       "  \n",
       "  Data:\n",
       "  +---------+--------+-----------+--------+-------+\n",
       "  | user_id | cutoff | precision | recall | count |\n",
       "  +---------+--------+-----------+--------+-------+\n",
       "  |    1    |   1    |    0.0    |  0.0   |   70  |\n",
       "  |    1    |   2    |    0.0    |  0.0   |   70  |\n",
       "  |    1    |   3    |    0.0    |  0.0   |   70  |\n",
       "  |    1    |   4    |    0.0    |  0.0   |   70  |\n",
       "  |    1    |   5    |    0.0    |  0.0   |   70  |\n",
       "  |    1    |   6    |    0.0    |  0.0   |   70  |\n",
       "  |    1    |   7    |    0.0    |  0.0   |   70  |\n",
       "  |    1    |   8    |    0.0    |  0.0   |   70  |\n",
       "  |    1    |   9    |    0.0    |  0.0   |   70  |\n",
       "  |    1    |   10   |    0.0    |  0.0   |   70  |\n",
       "  +---------+--------+-----------+--------+-------+\n",
       "  [10224 rows x 5 columns]\n",
       "  Note: Only the head of the SFrame is printed.\n",
       "  You can use print_rows(num_rows=m, num_columns=n) to print more rows and columns.,\n",
       "  'precision_recall_overall': Columns:\n",
       "  \tcutoff\tint\n",
       "  \tprecision\tfloat\n",
       "  \trecall\tfloat\n",
       "  \n",
       "  Rows: 18\n",
       "  \n",
       "  Data:\n",
       "  +--------+------------------+-------------------+\n",
       "  | cutoff |    precision     |       recall      |\n",
       "  +--------+------------------+-------------------+\n",
       "  |   1    | 0.00176056338028 | 2.75088028169e-05 |\n",
       "  |   2    | 0.00176056338028 | 5.30242141253e-05 |\n",
       "  |   3    | 0.00176056338028 | 9.30370182226e-05 |\n",
       "  |   4    | 0.00220070422535 | 0.000178213464796 |\n",
       "  |   5    | 0.00211267605634 | 0.000202330771376 |\n",
       "  |   6    | 0.00205399061033 | 0.000254112047266 |\n",
       "  |   7    | 0.00201207243461 | 0.000266338181852 |\n",
       "  |   8    | 0.00198063380282 |  0.0002749683945  |\n",
       "  |   9    | 0.00195618153365 | 0.000283598607148 |\n",
       "  |   10   | 0.00193661971831 | 0.000292228819797 |\n",
       "  +--------+------------------+-------------------+\n",
       "  [18 rows x 3 columns]\n",
       "  Note: Only the head of the SFrame is printed.\n",
       "  You can use print_rows(num_rows=m, num_columns=n) to print more rows and columns.},\n",
       " {'precision_recall_by_user': Columns:\n",
       "  \tuser_id\tint\n",
       "  \tcutoff\tint\n",
       "  \tprecision\tfloat\n",
       "  \trecall\tfloat\n",
       "  \tcount\tint\n",
       "  \n",
       "  Rows: 10224\n",
       "  \n",
       "  Data:\n",
       "  +---------+--------+----------------+-----------------+-------+\n",
       "  | user_id | cutoff |   precision    |      recall     | count |\n",
       "  +---------+--------+----------------+-----------------+-------+\n",
       "  |    1    |   1    |      0.0       |       0.0       |   70  |\n",
       "  |    1    |   2    |      0.0       |       0.0       |   70  |\n",
       "  |    1    |   3    |      0.0       |       0.0       |   70  |\n",
       "  |    1    |   4    |      0.0       |       0.0       |   70  |\n",
       "  |    1    |   5    |      0.2       | 0.0142857142857 |   70  |\n",
       "  |    1    |   6    | 0.166666666667 | 0.0142857142857 |   70  |\n",
       "  |    1    |   7    | 0.142857142857 | 0.0142857142857 |   70  |\n",
       "  |    1    |   8    |     0.125      | 0.0142857142857 |   70  |\n",
       "  |    1    |   9    | 0.222222222222 | 0.0285714285714 |   70  |\n",
       "  |    1    |   10   |      0.2       | 0.0285714285714 |   70  |\n",
       "  +---------+--------+----------------+-----------------+-------+\n",
       "  [10224 rows x 5 columns]\n",
       "  Note: Only the head of the SFrame is printed.\n",
       "  You can use print_rows(num_rows=m, num_columns=n) to print more rows and columns.,\n",
       "  'precision_recall_overall': Columns:\n",
       "  \tcutoff\tint\n",
       "  \tprecision\tfloat\n",
       "  \trecall\tfloat\n",
       "  \n",
       "  Rows: 18\n",
       "  \n",
       "  Data:\n",
       "  +--------+----------------+------------------+\n",
       "  | cutoff |   precision    |      recall      |\n",
       "  +--------+----------------+------------------+\n",
       "  |   1    | 0.137323943662 | 0.00283110623304 |\n",
       "  |   2    | 0.107394366197 | 0.00434363295501 |\n",
       "  |   3    | 0.107981220657 | 0.00710874408549 |\n",
       "  |   4    | 0.117517605634 | 0.0103405679367  |\n",
       "  |   5    | 0.128873239437 | 0.0143211032345  |\n",
       "  |   6    | 0.144072769953 | 0.0195447711147  |\n",
       "  |   7    | 0.156941649899 | 0.0250312201823  |\n",
       "  |   8    | 0.166813380282 | 0.0313462288681  |\n",
       "  |   9    | 0.167057902973 | 0.0353933073057  |\n",
       "  |   10   | 0.164612676056 | 0.0387702285521  |\n",
       "  +--------+----------------+------------------+\n",
       "  [18 rows x 3 columns]\n",
       "  Note: Only the head of the SFrame is printed.\n",
       "  You can use print_rows(num_rows=m, num_columns=n) to print more rows and columns.},\n",
       " {'precision_recall_by_user': Columns:\n",
       "  \tuser_id\tint\n",
       "  \tcutoff\tint\n",
       "  \tprecision\tfloat\n",
       "  \trecall\tfloat\n",
       "  \tcount\tint\n",
       "  \n",
       "  Rows: 10224\n",
       "  \n",
       "  Data:\n",
       "  +---------+--------+----------------+-----------------+-------+\n",
       "  | user_id | cutoff |   precision    |      recall     | count |\n",
       "  +---------+--------+----------------+-----------------+-------+\n",
       "  |    1    |   1    |      0.0       |       0.0       |   70  |\n",
       "  |    1    |   2    |      0.5       | 0.0142857142857 |   70  |\n",
       "  |    1    |   3    | 0.666666666667 | 0.0285714285714 |   70  |\n",
       "  |    1    |   4    |      0.5       | 0.0285714285714 |   70  |\n",
       "  |    1    |   5    |      0.6       | 0.0428571428571 |   70  |\n",
       "  |    1    |   6    |      0.5       | 0.0428571428571 |   70  |\n",
       "  |    1    |   7    | 0.571428571429 | 0.0571428571429 |   70  |\n",
       "  |    1    |   8    |      0.5       | 0.0571428571429 |   70  |\n",
       "  |    1    |   9    | 0.444444444444 | 0.0571428571429 |   70  |\n",
       "  |    1    |   10   |      0.4       | 0.0571428571429 |   70  |\n",
       "  +---------+--------+----------------+-----------------+-------+\n",
       "  [10224 rows x 5 columns]\n",
       "  Note: Only the head of the SFrame is printed.\n",
       "  You can use print_rows(num_rows=m, num_columns=n) to print more rows and columns.,\n",
       "  'precision_recall_overall': Columns:\n",
       "  \tcutoff\tint\n",
       "  \tprecision\tfloat\n",
       "  \trecall\tfloat\n",
       "  \n",
       "  Rows: 18\n",
       "  \n",
       "  Data:\n",
       "  +--------+----------------+-----------------+\n",
       "  | cutoff |   precision    |      recall     |\n",
       "  +--------+----------------+-----------------+\n",
       "  |   1    | 0.415492957746 | 0.0117199645367 |\n",
       "  |   2    | 0.401408450704 | 0.0215845321775 |\n",
       "  |   3    | 0.399061032864 | 0.0325167886922 |\n",
       "  |   4    | 0.394366197183 | 0.0423052761564 |\n",
       "  |   5    | 0.385211267606 | 0.0513640564471 |\n",
       "  |   6    | 0.37705399061  | 0.0602222902076 |\n",
       "  |   7    | 0.367957746479 | 0.0677989227879 |\n",
       "  |   8    | 0.367077464789 | 0.0772266336752 |\n",
       "  |   9    | 0.365805946792 | 0.0860125552661 |\n",
       "  |   10   | 0.361267605634 | 0.0950774918463 |\n",
       "  +--------+----------------+-----------------+\n",
       "  [18 rows x 3 columns]\n",
       "  Note: Only the head of the SFrame is printed.\n",
       "  You can use print_rows(num_rows=m, num_columns=n) to print more rows and columns.}]"
      ]
     },
     "execution_count": 58,
     "metadata": {},
     "output_type": "execute_result"
    }
   ],
   "source": [
    "models = [popularity_recommender, factorization_recommender, item_similarity_recommender]\n",
    "model_names = ['popularity', 'factorization', 'item_similarity']\n",
    "precision_recall = gl.recommender.util.compare_models(sframe_test, models, metric='precision_recall', model_names=model_names)\n",
    "precision_recall"
   ]
  },
  {
   "cell_type": "markdown",
   "metadata": {},
   "source": [
    "The precision is the proportion of recommendations that are good recommendations, and recall is the proportion of good recommendations that appear in top recommendations.\n",
    "Based on the above stats Item to Item collaborative filtering gives a better model."
   ]
  }
 ],
 "metadata": {
  "kernelspec": {
   "display_name": "Python 2",
   "language": "python",
   "name": "python2"
  },
  "language_info": {
   "codemirror_mode": {
    "name": "ipython",
    "version": 2
   },
   "file_extension": ".py",
   "mimetype": "text/x-python",
   "name": "python",
   "nbconvert_exporter": "python",
   "pygments_lexer": "ipython2",
   "version": "2.7.13"
  }
 },
 "nbformat": 4,
 "nbformat_minor": 0
}
