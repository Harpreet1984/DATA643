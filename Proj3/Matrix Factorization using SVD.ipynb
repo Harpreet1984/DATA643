{
 "cells": [
  {
   "cell_type": "code",
   "execution_count": 202,
   "metadata": {
    "collapsed": false,
    "scrolled": true
   },
   "outputs": [],
   "source": [
    "import pandas as pd\n",
    "import numpy as np\n",
    "from scipy.sparse.linalg import svds"
   ]
  },
  {
   "cell_type": "code",
   "execution_count": 203,
   "metadata": {
    "collapsed": false
   },
   "outputs": [
    {
     "data": {
      "text/html": [
       "<div>\n",
       "<table border=\"1\" class=\"dataframe\">\n",
       "  <thead>\n",
       "    <tr style=\"text-align: right;\">\n",
       "      <th></th>\n",
       "      <th>user_id</th>\n",
       "      <th>item_id</th>\n",
       "      <th>rating</th>\n",
       "      <th>timestamp</th>\n",
       "    </tr>\n",
       "  </thead>\n",
       "  <tbody>\n",
       "    <tr>\n",
       "      <th>0</th>\n",
       "      <td>196</td>\n",
       "      <td>242</td>\n",
       "      <td>3</td>\n",
       "      <td>881250949</td>\n",
       "    </tr>\n",
       "    <tr>\n",
       "      <th>1</th>\n",
       "      <td>186</td>\n",
       "      <td>302</td>\n",
       "      <td>3</td>\n",
       "      <td>891717742</td>\n",
       "    </tr>\n",
       "    <tr>\n",
       "      <th>2</th>\n",
       "      <td>22</td>\n",
       "      <td>377</td>\n",
       "      <td>1</td>\n",
       "      <td>878887116</td>\n",
       "    </tr>\n",
       "    <tr>\n",
       "      <th>3</th>\n",
       "      <td>244</td>\n",
       "      <td>51</td>\n",
       "      <td>2</td>\n",
       "      <td>880606923</td>\n",
       "    </tr>\n",
       "    <tr>\n",
       "      <th>4</th>\n",
       "      <td>166</td>\n",
       "      <td>346</td>\n",
       "      <td>1</td>\n",
       "      <td>886397596</td>\n",
       "    </tr>\n",
       "  </tbody>\n",
       "</table>\n",
       "</div>"
      ],
      "text/plain": [
       "   user_id  item_id  rating  timestamp\n",
       "0      196      242       3  881250949\n",
       "1      186      302       3  891717742\n",
       "2       22      377       1  878887116\n",
       "3      244       51       2  880606923\n",
       "4      166      346       1  886397596"
      ]
     },
     "execution_count": 203,
     "metadata": {},
     "output_type": "execute_result"
    }
   ],
   "source": [
    "col_names= [\"user_id\", \"item_id\", \"rating\", \"timestamp\"]\n",
    "ratingsData = pd.read_table(\"C:\\\\Users\\\\naman\\\\Documents\\\\Harpreet\\\\CUNY\\\\Data_602\\\\Assignment-3\\\\Mitxpro\\\\u.data\", names=col_names)\n",
    "ratingsData.head()"
   ]
  },
  {
   "cell_type": "markdown",
   "metadata": {},
   "source": [
    "## calculate sparcity of the data"
   ]
  },
  {
   "cell_type": "code",
   "execution_count": 204,
   "metadata": {
    "collapsed": false
   },
   "outputs": [
    {
     "name": "stdout",
     "output_type": "stream",
     "text": [
      "Sparcity Before 6.30466936422\n"
     ]
    }
   ],
   "source": [
    "def calculateSparcity (data) :\n",
    "    Number_Ratings = float(len(data))\n",
    "    Number_Movies = float(len(np.unique(data[\"item_id\"])))\n",
    "    Number_Users = float(len(np.unique(data[\"user_id\"])))\n",
    "    sparcity = (Number_Ratings/(Number_Movies * Number_Users)) * 100\n",
    "    return sparcity\n",
    "\n",
    "sparcityBefore = calculateSparcity(ratingsData)\n",
    "print (\"Sparcity Before \" + str(sparcityBefore))\n"
   ]
  },
  {
   "cell_type": "markdown",
   "metadata": {},
   "source": [
    "## Subsetting the data, by not including the users that have less than 50 ratings"
   ]
  },
  {
   "cell_type": "code",
   "execution_count": 205,
   "metadata": {
    "collapsed": false
   },
   "outputs": [
    {
     "name": "stdout",
     "output_type": "stream",
     "text": [
      "Sparcity After 9.26584192843\n"
     ]
    }
   ],
   "source": [
    "users = ratingsData[\"user_id\"]\n",
    "rating_count = {}\n",
    "for user in users :\n",
    "    if user in rating_count :\n",
    "        rating_count[user] += 1\n",
    "    else :\n",
    "        rating_count[user] = 1\n",
    "RATING_CUTOFF = 50\n",
    "remove_user = []\n",
    "for user in rating_count :\n",
    "    if rating_count[user] < RATING_CUTOFF:\n",
    "        remove_user.append(user)\n",
    "ratingsData = ratingsData.loc[~ ratingsData[\"user_id\"].isin(remove_user) ]\n",
    "\n",
    "sparcityAfter = calculateSparcity (ratingsData)\n",
    "print (\"Sparcity After \" + str (sparcityAfter))\n"
   ]
  },
  {
   "cell_type": "code",
   "execution_count": 206,
   "metadata": {
    "collapsed": false,
    "scrolled": true
   },
   "outputs": [
    {
     "data": {
      "text/html": [
       "<div>\n",
       "<table border=\"1\" class=\"dataframe\">\n",
       "  <thead>\n",
       "    <tr style=\"text-align: right;\">\n",
       "      <th>item_id</th>\n",
       "      <th>1</th>\n",
       "      <th>2</th>\n",
       "      <th>3</th>\n",
       "      <th>4</th>\n",
       "      <th>5</th>\n",
       "      <th>6</th>\n",
       "      <th>7</th>\n",
       "      <th>8</th>\n",
       "      <th>9</th>\n",
       "      <th>10</th>\n",
       "      <th>...</th>\n",
       "      <th>1673</th>\n",
       "      <th>1674</th>\n",
       "      <th>1675</th>\n",
       "      <th>1676</th>\n",
       "      <th>1677</th>\n",
       "      <th>1678</th>\n",
       "      <th>1679</th>\n",
       "      <th>1680</th>\n",
       "      <th>1681</th>\n",
       "      <th>1682</th>\n",
       "    </tr>\n",
       "    <tr>\n",
       "      <th>user_id</th>\n",
       "      <th></th>\n",
       "      <th></th>\n",
       "      <th></th>\n",
       "      <th></th>\n",
       "      <th></th>\n",
       "      <th></th>\n",
       "      <th></th>\n",
       "      <th></th>\n",
       "      <th></th>\n",
       "      <th></th>\n",
       "      <th></th>\n",
       "      <th></th>\n",
       "      <th></th>\n",
       "      <th></th>\n",
       "      <th></th>\n",
       "      <th></th>\n",
       "      <th></th>\n",
       "      <th></th>\n",
       "      <th></th>\n",
       "      <th></th>\n",
       "      <th></th>\n",
       "    </tr>\n",
       "  </thead>\n",
       "  <tbody>\n",
       "    <tr>\n",
       "      <th>1</th>\n",
       "      <td>5.0</td>\n",
       "      <td>3.0</td>\n",
       "      <td>4.0</td>\n",
       "      <td>3.0</td>\n",
       "      <td>3.0</td>\n",
       "      <td>5.0</td>\n",
       "      <td>4.0</td>\n",
       "      <td>1.0</td>\n",
       "      <td>5.0</td>\n",
       "      <td>3.0</td>\n",
       "      <td>...</td>\n",
       "      <td>0.0</td>\n",
       "      <td>0.0</td>\n",
       "      <td>0.0</td>\n",
       "      <td>0.0</td>\n",
       "      <td>0.0</td>\n",
       "      <td>0.0</td>\n",
       "      <td>0.0</td>\n",
       "      <td>0.0</td>\n",
       "      <td>0.0</td>\n",
       "      <td>0.0</td>\n",
       "    </tr>\n",
       "    <tr>\n",
       "      <th>2</th>\n",
       "      <td>4.0</td>\n",
       "      <td>0.0</td>\n",
       "      <td>0.0</td>\n",
       "      <td>0.0</td>\n",
       "      <td>0.0</td>\n",
       "      <td>0.0</td>\n",
       "      <td>0.0</td>\n",
       "      <td>0.0</td>\n",
       "      <td>0.0</td>\n",
       "      <td>2.0</td>\n",
       "      <td>...</td>\n",
       "      <td>0.0</td>\n",
       "      <td>0.0</td>\n",
       "      <td>0.0</td>\n",
       "      <td>0.0</td>\n",
       "      <td>0.0</td>\n",
       "      <td>0.0</td>\n",
       "      <td>0.0</td>\n",
       "      <td>0.0</td>\n",
       "      <td>0.0</td>\n",
       "      <td>0.0</td>\n",
       "    </tr>\n",
       "    <tr>\n",
       "      <th>3</th>\n",
       "      <td>0.0</td>\n",
       "      <td>0.0</td>\n",
       "      <td>0.0</td>\n",
       "      <td>0.0</td>\n",
       "      <td>0.0</td>\n",
       "      <td>0.0</td>\n",
       "      <td>0.0</td>\n",
       "      <td>0.0</td>\n",
       "      <td>0.0</td>\n",
       "      <td>0.0</td>\n",
       "      <td>...</td>\n",
       "      <td>0.0</td>\n",
       "      <td>0.0</td>\n",
       "      <td>0.0</td>\n",
       "      <td>0.0</td>\n",
       "      <td>0.0</td>\n",
       "      <td>0.0</td>\n",
       "      <td>0.0</td>\n",
       "      <td>0.0</td>\n",
       "      <td>0.0</td>\n",
       "      <td>0.0</td>\n",
       "    </tr>\n",
       "    <tr>\n",
       "      <th>5</th>\n",
       "      <td>4.0</td>\n",
       "      <td>3.0</td>\n",
       "      <td>0.0</td>\n",
       "      <td>0.0</td>\n",
       "      <td>0.0</td>\n",
       "      <td>0.0</td>\n",
       "      <td>0.0</td>\n",
       "      <td>0.0</td>\n",
       "      <td>0.0</td>\n",
       "      <td>0.0</td>\n",
       "      <td>...</td>\n",
       "      <td>0.0</td>\n",
       "      <td>0.0</td>\n",
       "      <td>0.0</td>\n",
       "      <td>0.0</td>\n",
       "      <td>0.0</td>\n",
       "      <td>0.0</td>\n",
       "      <td>0.0</td>\n",
       "      <td>0.0</td>\n",
       "      <td>0.0</td>\n",
       "      <td>0.0</td>\n",
       "    </tr>\n",
       "    <tr>\n",
       "      <th>6</th>\n",
       "      <td>4.0</td>\n",
       "      <td>0.0</td>\n",
       "      <td>0.0</td>\n",
       "      <td>0.0</td>\n",
       "      <td>0.0</td>\n",
       "      <td>0.0</td>\n",
       "      <td>2.0</td>\n",
       "      <td>4.0</td>\n",
       "      <td>4.0</td>\n",
       "      <td>0.0</td>\n",
       "      <td>...</td>\n",
       "      <td>0.0</td>\n",
       "      <td>0.0</td>\n",
       "      <td>0.0</td>\n",
       "      <td>0.0</td>\n",
       "      <td>0.0</td>\n",
       "      <td>0.0</td>\n",
       "      <td>0.0</td>\n",
       "      <td>0.0</td>\n",
       "      <td>0.0</td>\n",
       "      <td>0.0</td>\n",
       "    </tr>\n",
       "  </tbody>\n",
       "</table>\n",
       "<p>5 rows × 1681 columns</p>\n",
       "</div>"
      ],
      "text/plain": [
       "item_id  1     2     3     4     5     6     7     8     9     10    ...   \\\n",
       "user_id                                                              ...    \n",
       "1         5.0   3.0   4.0   3.0   3.0   5.0   4.0   1.0   5.0   3.0  ...    \n",
       "2         4.0   0.0   0.0   0.0   0.0   0.0   0.0   0.0   0.0   2.0  ...    \n",
       "3         0.0   0.0   0.0   0.0   0.0   0.0   0.0   0.0   0.0   0.0  ...    \n",
       "5         4.0   3.0   0.0   0.0   0.0   0.0   0.0   0.0   0.0   0.0  ...    \n",
       "6         4.0   0.0   0.0   0.0   0.0   0.0   2.0   4.0   4.0   0.0  ...    \n",
       "\n",
       "item_id  1673  1674  1675  1676  1677  1678  1679  1680  1681  1682  \n",
       "user_id                                                              \n",
       "1         0.0   0.0   0.0   0.0   0.0   0.0   0.0   0.0   0.0   0.0  \n",
       "2         0.0   0.0   0.0   0.0   0.0   0.0   0.0   0.0   0.0   0.0  \n",
       "3         0.0   0.0   0.0   0.0   0.0   0.0   0.0   0.0   0.0   0.0  \n",
       "5         0.0   0.0   0.0   0.0   0.0   0.0   0.0   0.0   0.0   0.0  \n",
       "6         0.0   0.0   0.0   0.0   0.0   0.0   0.0   0.0   0.0   0.0  \n",
       "\n",
       "[5 rows x 1681 columns]"
      ]
     },
     "execution_count": 206,
     "metadata": {},
     "output_type": "execute_result"
    }
   ],
   "source": [
    "pivoted_ratingsData = ratingsData.pivot(index= \"user_id\", columns= \"item_id\", values = \"rating\").fillna(0)\n",
    "pivoted_ratingsData.head()"
   ]
  },
  {
   "cell_type": "code",
   "execution_count": 207,
   "metadata": {
    "collapsed": false
   },
   "outputs": [
    {
     "data": {
      "text/plain": [
       "array([[ 4.41582391,  2.41582391,  3.41582391, ..., -0.58417609,\n",
       "        -0.58417609, -0.58417609],\n",
       "       [ 3.86317668, -0.13682332, -0.13682332, ..., -0.13682332,\n",
       "        -0.13682332, -0.13682332],\n",
       "       [-0.08982748, -0.08982748, -0.08982748, ..., -0.08982748,\n",
       "        -0.08982748, -0.08982748],\n",
       "       ..., \n",
       "       [-0.22010708, -0.22010708, -0.22010708, ..., -0.22010708,\n",
       "        -0.22010708, -0.22010708],\n",
       "       [-0.20047591, -0.20047591, -0.20047591, ..., -0.20047591,\n",
       "        -0.20047591, -0.20047591],\n",
       "       [-0.34086853,  4.65913147, -0.34086853, ..., -0.34086853,\n",
       "        -0.34086853, -0.34086853]])"
      ]
     },
     "execution_count": 207,
     "metadata": {},
     "output_type": "execute_result"
    }
   ],
   "source": [
    "ratingDataMatrix = pivoted_ratingsData.as_matrix()\n",
    "meanMatrix = np.mean(ratingDataMatrix, axis=1)\n",
    "normalizedMatrix = ratingDataMatrix - meanMatrix.reshape(-1,1)\n",
    "normalizedMatrix\n"
   ]
  },
  {
   "cell_type": "markdown",
   "metadata": {},
   "source": [
    "## Calculating SVD"
   ]
  },
  {
   "cell_type": "code",
   "execution_count": 208,
   "metadata": {
    "collapsed": false
   },
   "outputs": [],
   "source": [
    "# with k value 100\n",
    "u100, sigma100, vT100 = svds(normalizedMatrix, k = 100)\n",
    "sigma100 = np.diag(sigma100)\n",
    "\n",
    "# with k value 50\n",
    "u50, sigma50, vT50 = svds(normalizedMatrix, k = 50)\n",
    "sigma50 = np.diag(sigma50)\n",
    "\n",
    "# with k value 10\n",
    "u10, sigma10, vT10 = svds(normalizedMatrix, k = 10)\n",
    "sigma10 = np.diag(sigma10)"
   ]
  },
  {
   "cell_type": "markdown",
   "metadata": {},
   "source": [
    "## Rating Predictions  for All Users"
   ]
  },
  {
   "cell_type": "code",
   "execution_count": 209,
   "metadata": {
    "collapsed": false,
    "scrolled": true
   },
   "outputs": [],
   "source": [
    "# with k value 100\n",
    "fullData100 = np.dot(np.dot(u100, sigma100), vT100) + meanMatrix.reshape(-1, 1)\n",
    "\n",
    "\n",
    "# with k value 50\n",
    "fullData50 = np.dot(np.dot(u50, sigma50), vT50) + meanMatrix.reshape(-1, 1)\n",
    "\n",
    "\n",
    "# with k value 10\n",
    "fullData10 = np.dot(np.dot(u10, sigma10), vT10) + meanMatrix.reshape(-1, 1)\n",
    "\n"
   ]
  },
  {
   "cell_type": "markdown",
   "metadata": {},
   "source": [
    "## Rating Predictions for specific user"
   ]
  },
  {
   "cell_type": "code",
   "execution_count": 210,
   "metadata": {
    "collapsed": false,
    "scrolled": true
   },
   "outputs": [
    {
     "name": "stdout",
     "output_type": "stream",
     "text": [
      "Recommendation for 6th User and 6th movie 0.126142801544\n",
      "Recommendation for 6th User and 6th movie 3.98828970677\n",
      "Recommendation for 6th User and 6th movie 0.565261902394\n"
     ]
    }
   ],
   "source": [
    "## with K value 100\n",
    "sigma100 = np.diag(sigma100)\n",
    "userPrefProduct = np.dot (u100[5, : ] , sigma100) \n",
    "userRecommendation = np.dot(userPrefProduct, vT100) \n",
    "print (\"Recommendation for 6th User and 6th movie \" + str(userRecommendation[5,5] + meanMatrix[5]))\n",
    "\n",
    "\n",
    "## with K value 50\n",
    "sigma50 = np.diag(sigma50)\n",
    "userPrefProduct50 = np.dot (u50[5, : ] , sigma50) \n",
    "userRecommendation50 = np.dot(userPrefProduct50, vT50) \n",
    "print (\"Recommendation for 6th User and 6th movie \" + str(userRecommendation50[5,5] + meanMatrix[5]))\n",
    "\n",
    "\n",
    "## with K value 10\n",
    "sigma10 = np.diag(sigma10)\n",
    "userPrefProduct10 = np.dot (u10[5, : ] , sigma10) \n",
    "userRecommendation10 = np.dot(userPrefProduct10, vT10) \n",
    "print (\"Recommendation for 6th User and 6th movie \" + str(userRecommendation10[5,5] + meanMatrix[5]))\n"
   ]
  },
  {
   "cell_type": "code",
   "execution_count": 211,
   "metadata": {
    "collapsed": false
   },
   "outputs": [
    {
     "data": {
      "text/plain": [
       "3.0376650785678594"
      ]
     },
     "execution_count": 211,
     "metadata": {},
     "output_type": "execute_result"
    }
   ],
   "source": [
    "userRecommendation50[5,5]"
   ]
  },
  {
   "cell_type": "markdown",
   "metadata": {},
   "source": [
    "## Conclusion\n",
    "In this project, we were able to apply matrix factorization using SVD. We were able to predict the rating for users based on the feature reduction done by SVD. We tried with multiple values of k (10, 50, 100). As a future work we would like to test each of these model on the test data to find the most optimum value of K that provides best prediction."
   ]
  }
 ],
 "metadata": {
  "kernelspec": {
   "display_name": "Python 2",
   "language": "python",
   "name": "python2"
  },
  "language_info": {
   "codemirror_mode": {
    "name": "ipython",
    "version": 2
   },
   "file_extension": ".py",
   "mimetype": "text/x-python",
   "name": "python",
   "nbconvert_exporter": "python",
   "pygments_lexer": "ipython2",
   "version": "2.7.13"
  }
 },
 "nbformat": 4,
 "nbformat_minor": 0
}
