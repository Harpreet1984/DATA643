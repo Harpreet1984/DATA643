{
 "cells": [
  {
   "cell_type": "markdown",
   "metadata": {},
   "source": [
    "# DATA643 \n",
    "Harpreet Kaur Shoker\n",
    "\n",
    "## Briefly describe the recommender system that you’re going to build out from a business perspective\n",
    "In this project, i have build a recommender system for movies. I have created a sample dataset with 10 users and 6 movie. Have created a sparse dataset so that model will provide better estimates."
   ]
  },
  {
   "cell_type": "code",
   "execution_count": 225,
   "metadata": {
    "collapsed": true
   },
   "outputs": [],
   "source": [
    "import pandas as pd\n",
    "from sklearn.model_selection import train_test_split\n",
    "from sklearn.metrics import mean_squared_error\n",
    "from math import sqrt"
   ]
  },
  {
   "cell_type": "markdown",
   "metadata": {},
   "source": [
    "# Load your data into R"
   ]
  },
  {
   "cell_type": "code",
   "execution_count": 226,
   "metadata": {},
   "outputs": [
    {
     "data": {
      "text/html": [
       "<div>\n",
       "<style>\n",
       "    .dataframe thead tr:only-child th {\n",
       "        text-align: right;\n",
       "    }\n",
       "\n",
       "    .dataframe thead th {\n",
       "        text-align: left;\n",
       "    }\n",
       "\n",
       "    .dataframe tbody tr th {\n",
       "        vertical-align: top;\n",
       "    }\n",
       "</style>\n",
       "<table border=\"1\" class=\"dataframe\">\n",
       "  <thead>\n",
       "    <tr style=\"text-align: right;\">\n",
       "      <th></th>\n",
       "      <th>User</th>\n",
       "      <th>Movie1</th>\n",
       "      <th>Movie2</th>\n",
       "      <th>Movie3</th>\n",
       "      <th>Movie4</th>\n",
       "      <th>Movie5</th>\n",
       "      <th>Movie6</th>\n",
       "    </tr>\n",
       "  </thead>\n",
       "  <tbody>\n",
       "    <tr>\n",
       "      <th>0</th>\n",
       "      <td>User1</td>\n",
       "      <td>NaN</td>\n",
       "      <td>NaN</td>\n",
       "      <td>NaN</td>\n",
       "      <td>4.0</td>\n",
       "      <td>NaN</td>\n",
       "      <td>4.0</td>\n",
       "    </tr>\n",
       "    <tr>\n",
       "      <th>1</th>\n",
       "      <td>User2</td>\n",
       "      <td>4.0</td>\n",
       "      <td>5.0</td>\n",
       "      <td>4.0</td>\n",
       "      <td>3.0</td>\n",
       "      <td>2.0</td>\n",
       "      <td>3.0</td>\n",
       "    </tr>\n",
       "    <tr>\n",
       "      <th>2</th>\n",
       "      <td>User3</td>\n",
       "      <td>NaN</td>\n",
       "      <td>5.0</td>\n",
       "      <td>NaN</td>\n",
       "      <td>NaN</td>\n",
       "      <td>NaN</td>\n",
       "      <td>5.0</td>\n",
       "    </tr>\n",
       "    <tr>\n",
       "      <th>3</th>\n",
       "      <td>User4</td>\n",
       "      <td>5.0</td>\n",
       "      <td>4.0</td>\n",
       "      <td>NaN</td>\n",
       "      <td>NaN</td>\n",
       "      <td>NaN</td>\n",
       "      <td>5.0</td>\n",
       "    </tr>\n",
       "    <tr>\n",
       "      <th>4</th>\n",
       "      <td>User5</td>\n",
       "      <td>4.0</td>\n",
       "      <td>NaN</td>\n",
       "      <td>2.0</td>\n",
       "      <td>NaN</td>\n",
       "      <td>2.0</td>\n",
       "      <td>5.0</td>\n",
       "    </tr>\n",
       "  </tbody>\n",
       "</table>\n",
       "</div>"
      ],
      "text/plain": [
       "    User  Movie1  Movie2  Movie3  Movie4  Movie5  Movie6\n",
       "0  User1     NaN     NaN     NaN     4.0     NaN     4.0\n",
       "1  User2     4.0     5.0     4.0     3.0     2.0     3.0\n",
       "2  User3     NaN     5.0     NaN     NaN     NaN     5.0\n",
       "3  User4     5.0     4.0     NaN     NaN     NaN     5.0\n",
       "4  User5     4.0     NaN     2.0     NaN     2.0     5.0"
      ]
     },
     "execution_count": 226,
     "metadata": {},
     "output_type": "execute_result"
    }
   ],
   "source": [
    "df = pd.read_csv(\"https://raw.githubusercontent.com/Harpreet1984/DATA643/master/Proj1/data/data.csv\")\n",
    "df.head(5)"
   ]
  },
  {
   "cell_type": "code",
   "execution_count": 227,
   "metadata": {},
   "outputs": [
    {
     "data": {
      "text/plain": [
       "0    4.000000\n",
       "1    3.500000\n",
       "2    5.000000\n",
       "3    4.666667\n",
       "4    3.250000\n",
       "5    3.500000\n",
       "6    3.333333\n",
       "7    4.000000\n",
       "8    3.500000\n",
       "9    3.666667\n",
       "dtype: float64"
      ]
     },
     "execution_count": 227,
     "metadata": {},
     "output_type": "execute_result"
    }
   ],
   "source": [
    "df_long = pd.melt(df, id_vars='User').dropna()\n",
    "raw_avg = df_long[\"value\"].mean()\n",
    "raw_avg\n",
    "\n",
    "movie_mean = df.mean(axis=0).dropna()\n",
    "movie_mean\n",
    "\n",
    "user_mean = df.mean(axis=1).dropna()\n",
    "user_mean"
   ]
  },
  {
   "cell_type": "markdown",
   "metadata": {},
   "source": [
    "## Break your ratings into separate training and test datasets"
   ]
  },
  {
   "cell_type": "code",
   "execution_count": 228,
   "metadata": {
    "scrolled": true
   },
   "outputs": [
    {
     "data": {
      "text/html": [
       "<div>\n",
       "<style>\n",
       "    .dataframe thead tr:only-child th {\n",
       "        text-align: right;\n",
       "    }\n",
       "\n",
       "    .dataframe thead th {\n",
       "        text-align: left;\n",
       "    }\n",
       "\n",
       "    .dataframe tbody tr th {\n",
       "        vertical-align: top;\n",
       "    }\n",
       "</style>\n",
       "<table border=\"1\" class=\"dataframe\">\n",
       "  <thead>\n",
       "    <tr style=\"text-align: right;\">\n",
       "      <th></th>\n",
       "      <th>User</th>\n",
       "      <th>variable</th>\n",
       "      <th>value</th>\n",
       "    </tr>\n",
       "  </thead>\n",
       "  <tbody>\n",
       "    <tr>\n",
       "      <th>1</th>\n",
       "      <td>User2</td>\n",
       "      <td>Movie1</td>\n",
       "      <td>4.0</td>\n",
       "    </tr>\n",
       "    <tr>\n",
       "      <th>16</th>\n",
       "      <td>User7</td>\n",
       "      <td>Movie2</td>\n",
       "      <td>4.0</td>\n",
       "    </tr>\n",
       "    <tr>\n",
       "      <th>4</th>\n",
       "      <td>User5</td>\n",
       "      <td>Movie1</td>\n",
       "      <td>4.0</td>\n",
       "    </tr>\n",
       "    <tr>\n",
       "      <th>44</th>\n",
       "      <td>User5</td>\n",
       "      <td>Movie5</td>\n",
       "      <td>2.0</td>\n",
       "    </tr>\n",
       "    <tr>\n",
       "      <th>28</th>\n",
       "      <td>User9</td>\n",
       "      <td>Movie3</td>\n",
       "      <td>1.0</td>\n",
       "    </tr>\n",
       "    <tr>\n",
       "      <th>8</th>\n",
       "      <td>User9</td>\n",
       "      <td>Movie1</td>\n",
       "      <td>4.0</td>\n",
       "    </tr>\n",
       "    <tr>\n",
       "      <th>59</th>\n",
       "      <td>User10</td>\n",
       "      <td>Movie6</td>\n",
       "      <td>3.0</td>\n",
       "    </tr>\n",
       "    <tr>\n",
       "      <th>53</th>\n",
       "      <td>User4</td>\n",
       "      <td>Movie6</td>\n",
       "      <td>5.0</td>\n",
       "    </tr>\n",
       "    <tr>\n",
       "      <th>25</th>\n",
       "      <td>User6</td>\n",
       "      <td>Movie3</td>\n",
       "      <td>3.0</td>\n",
       "    </tr>\n",
       "    <tr>\n",
       "      <th>30</th>\n",
       "      <td>User1</td>\n",
       "      <td>Movie4</td>\n",
       "      <td>4.0</td>\n",
       "    </tr>\n",
       "  </tbody>\n",
       "</table>\n",
       "</div>"
      ],
      "text/plain": [
       "      User variable  value\n",
       "1    User2   Movie1    4.0\n",
       "16   User7   Movie2    4.0\n",
       "4    User5   Movie1    4.0\n",
       "44   User5   Movie5    2.0\n",
       "28   User9   Movie3    1.0\n",
       "8    User9   Movie1    4.0\n",
       "59  User10   Movie6    3.0\n",
       "53   User4   Movie6    5.0\n",
       "25   User6   Movie3    3.0\n",
       "30   User1   Movie4    4.0"
      ]
     },
     "execution_count": 228,
     "metadata": {},
     "output_type": "execute_result"
    }
   ],
   "source": [
    "df_long.head(20)\n",
    "df_long_train, df_long_test = train_test_split(df_long, test_size =0.3)\n",
    "\n",
    "df_long_train.head(10)\n",
    "df_long_test.head(10)"
   ]
  },
  {
   "cell_type": "markdown",
   "metadata": {},
   "source": [
    "## Using the Training data, Calculate the raw average(mean) rating for every user-item combination."
   ]
  },
  {
   "cell_type": "code",
   "execution_count": 229,
   "metadata": {},
   "outputs": [
    {
     "name": "stdout",
     "output_type": "stream",
     "text": [
      "       variable\n",
      "value  Movie1      4.250000\n",
      "       Movie2      4.200000\n",
      "       Movie3      3.666667\n",
      "       Movie4      3.333333\n",
      "       Movie5      2.500000\n",
      "       Movie6      4.285714\n",
      "dtype: float64\n",
      "User\n",
      "User1     4.000000\n",
      "User10    3.800000\n",
      "User2     3.333333\n",
      "User3     5.000000\n",
      "User4     4.500000\n",
      "User5     3.500000\n",
      "User6     3.666667\n",
      "User7     3.200000\n",
      "User8     4.000000\n",
      "User9     4.500000\n",
      "dtype: float64\n"
     ]
    }
   ],
   "source": [
    "df_short_train = df_long_train.pivot_table(index=['User'], columns='variable')\n",
    "\n",
    "df_train_movie_mean = df_short_train.mean(axis=0).dropna()\n",
    "print (str(df_train_movie_mean))\n",
    "\n",
    "df_train_user_mean = df_short_train.mean(axis=1).dropna()\n",
    "print (str(df_train_user_mean))"
   ]
  },
  {
   "cell_type": "markdown",
   "metadata": {},
   "source": [
    "## Calculate the RMSE for raw average for both your training data and test data"
   ]
  },
  {
   "cell_type": "code",
   "execution_count": 230,
   "metadata": {
    "scrolled": true
   },
   "outputs": [
    {
     "name": "stdout",
     "output_type": "stream",
     "text": [
      "Raw average for the training setvalue    3.807692\n",
      "dtype: float64\n",
      "Training RMSE using Raw Avg :- 1.0748606624986248 Test RMSE:- 1.1087334850307364\n"
     ]
    }
   ],
   "source": [
    "raw_avg_train = [df_long_train.mean().dropna()]\n",
    "print (\"Raw average for the training set\" + str(raw_avg_train[0]))\n",
    "\n",
    "df_train_movie_mean = df_train_movie_mean - raw_avg_train[0][0]\n",
    "df_train_user_mean = df_train_user_mean - raw_avg_train[0][0]\n",
    "\n",
    "df_long_train_pred =  len(df_long_train.index) * raw_avg_train\n",
    "rmse_1_training = sqrt(mean_squared_error(df_long_train[\"value\"], df_long_train_pred))\n",
    "df_long_test_pred = len (df_long_test.index ) * raw_avg_train\n",
    "rmse_1_test = sqrt(mean_squared_error(df_long_test[\"value\"], df_long_test_pred))\n",
    "print (\"Training RMSE using Raw Avg :- \" + str(rmse_1_training) + \" Test RMSE:- \" + str(rmse_1_test))"
   ]
  },
  {
   "cell_type": "markdown",
   "metadata": {},
   "source": [
    "\n",
    "## From the raw averages, and the appropriate user and item biases, calculate the baseline predictors for every user-item combination\n"
   ]
  },
  {
   "cell_type": "code",
   "execution_count": 231,
   "metadata": {
    "scrolled": true
   },
   "outputs": [
    {
     "data": {
      "text/plain": [
       "{'User10Movie1': 4.2423076923076923,\n",
       " 'User10Movie2': 4.1923076923076925,\n",
       " 'User10Movie3': 3.6589743589743589,\n",
       " 'User10Movie4': 3.3256410256410258,\n",
       " 'User10Movie5': 2.4923076923076923,\n",
       " 'User10Movie6': 4.2780219780219779,\n",
       " 'User1Movie1': 4.4423076923076925,\n",
       " 'User1Movie2': 4.3923076923076927,\n",
       " 'User1Movie3': 3.858974358974359,\n",
       " 'User1Movie4': 3.525641025641026,\n",
       " 'User1Movie5': 2.6923076923076925,\n",
       " 'User1Movie6': 4.4780219780219781,\n",
       " 'User2Movie1': 3.775641025641026,\n",
       " 'User2Movie2': 3.7256410256410262,\n",
       " 'User2Movie3': 3.1923076923076925,\n",
       " 'User2Movie4': 2.8589743589743595,\n",
       " 'User2Movie5': 2.025641025641026,\n",
       " 'User2Movie6': 3.8113553113553116,\n",
       " 'User3Movie1': 5,\n",
       " 'User3Movie2': 5,\n",
       " 'User3Movie3': 4.8589743589743595,\n",
       " 'User3Movie4': 4.5256410256410255,\n",
       " 'User3Movie5': 3.6923076923076925,\n",
       " 'User3Movie6': 5,\n",
       " 'User4Movie1': 4.9423076923076925,\n",
       " 'User4Movie2': 4.8923076923076927,\n",
       " 'User4Movie3': 4.3589743589743595,\n",
       " 'User4Movie4': 4.0256410256410255,\n",
       " 'User4Movie5': 3.1923076923076925,\n",
       " 'User4Movie6': 4.9780219780219781,\n",
       " 'User5Movie1': 3.9423076923076925,\n",
       " 'User5Movie2': 3.8923076923076927,\n",
       " 'User5Movie3': 3.358974358974359,\n",
       " 'User5Movie4': 3.025641025641026,\n",
       " 'User5Movie5': 2.1923076923076925,\n",
       " 'User5Movie6': 3.9780219780219781,\n",
       " 'User6Movie1': 4.1089743589743595,\n",
       " 'User6Movie2': 4.0589743589743588,\n",
       " 'User6Movie3': 3.5256410256410255,\n",
       " 'User6Movie4': 3.1923076923076925,\n",
       " 'User6Movie5': 2.358974358974359,\n",
       " 'User6Movie6': 4.1446886446886442,\n",
       " 'User7Movie1': 3.6423076923076927,\n",
       " 'User7Movie2': 3.5923076923076929,\n",
       " 'User7Movie3': 3.0589743589743592,\n",
       " 'User7Movie4': 2.7256410256410262,\n",
       " 'User7Movie5': 1.8923076923076927,\n",
       " 'User7Movie6': 3.6780219780219783,\n",
       " 'User8Movie1': 4.4423076923076925,\n",
       " 'User8Movie2': 4.3923076923076927,\n",
       " 'User8Movie3': 3.858974358974359,\n",
       " 'User8Movie4': 3.525641025641026,\n",
       " 'User8Movie5': 2.6923076923076925,\n",
       " 'User8Movie6': 4.4780219780219781,\n",
       " 'User9Movie1': 4.9423076923076925,\n",
       " 'User9Movie2': 4.8923076923076927,\n",
       " 'User9Movie3': 4.3589743589743595,\n",
       " 'User9Movie4': 4.0256410256410255,\n",
       " 'User9Movie5': 3.1923076923076925,\n",
       " 'User9Movie6': 4.9780219780219781}"
      ]
     },
     "execution_count": 231,
     "metadata": {},
     "output_type": "execute_result"
    }
   ],
   "source": [
    "bias_dict = {}\n",
    "for userInd in df_train_user_mean.index :\n",
    "    for movieInd in df_train_movie_mean.index :\n",
    "        mapIndex = str(userInd) + str(movieInd[1])\n",
    "        mapValue = raw_avg_train[0][0] + df_train_user_mean[userInd] + df_train_movie_mean[movieInd]\n",
    "        if mapValue > 5 :\n",
    "            mapValue = 5\n",
    "        elif mapValue < 1:\n",
    "            mapValue = 1\n",
    "        bias_dict[mapIndex] = mapValue\n",
    "\n",
    "bias_dict"
   ]
  },
  {
   "cell_type": "markdown",
   "metadata": {},
   "source": [
    "## Calculate RMSE for the baseline predictors for Training"
   ]
  },
  {
   "cell_type": "code",
   "execution_count": 232,
   "metadata": {
    "scrolled": true
   },
   "outputs": [
    {
     "name": "stdout",
     "output_type": "stream",
     "text": [
      "Training RMSE using Model:- 0.8308722727573618\n"
     ]
    }
   ],
   "source": [
    "train_pred_value = []\n",
    "train_actual_value = []\n",
    "for index, row in df_long_train.iterrows() :\n",
    "    train_actual_value.append(row[\"value\"])\n",
    "    \n",
    "    mapKey = str(row[\"User\"] + str(row[\"variable\"]))\n",
    "    if mapKey in bias_dict.keys():\n",
    "        train_pred_value.append(bias_dict[mapKey])\n",
    "    else :\n",
    "        train_pred_value.append(row[\"value\"])\n",
    "        \n",
    "\n",
    "#train_pred_value   \n",
    "#train_actual_value\n",
    "rmse_2_training = sqrt(mean_squared_error(train_actual_value, train_pred_value))\n",
    "print (\"Training RMSE using Model:- \" + str(rmse_2_training))"
   ]
  },
  {
   "cell_type": "markdown",
   "metadata": {},
   "source": [
    "## Calculate RMSE for the baseline predictors for Test"
   ]
  },
  {
   "cell_type": "code",
   "execution_count": 233,
   "metadata": {},
   "outputs": [
    {
     "name": "stdout",
     "output_type": "stream",
     "text": [
      "Test RMSE using Model:- 1.1267544238033511\n"
     ]
    }
   ],
   "source": [
    "test_pred_value = []\n",
    "test_actual_value = []\n",
    "for index, row in df_long_test.iterrows() :\n",
    "    test_actual_value.append(row[\"value\"])\n",
    "    \n",
    "    mapKey = str(row[\"User\"] + str(row[\"variable\"]))\n",
    "    if mapKey in bias_dict.keys():\n",
    "        test_pred_value.append(bias_dict[mapKey])\n",
    "    else :\n",
    "        test_pred_value.append(row[\"value\"])\n",
    "rmse_2_test = sqrt(mean_squared_error(test_actual_value, test_pred_value))\n",
    "print (\"Test RMSE using Model:- \" + str(rmse_2_test))"
   ]
  }
 ],
 "metadata": {
  "kernelspec": {
   "display_name": "Python 3",
   "language": "python",
   "name": "python3"
  },
  "language_info": {
   "codemirror_mode": {
    "name": "ipython",
    "version": 3
   },
   "file_extension": ".py",
   "mimetype": "text/x-python",
   "name": "python",
   "nbconvert_exporter": "python",
   "pygments_lexer": "ipython3",
   "version": "3.6.3"
  }
 },
 "nbformat": 4,
 "nbformat_minor": 2
}
